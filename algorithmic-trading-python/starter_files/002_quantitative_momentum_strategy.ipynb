{
 "cells": [
  {
   "cell_type": "markdown",
   "metadata": {},
   "source": [
    "# Quantitative Momentum Strategy\n",
    "\n",
    "\"Momentum investing\" means investing in the stocks that have increased in price the most.\n",
    "\n",
    "For this project, we're going to build an investing strategy that selects the 50 stocks with the highest price momentum. From there, we will calculate recommended trades for an equal-weight portfolio of these 50 stocks.\n",
    "\n",
    "\n",
    "## Library Imports\n",
    "\n",
    "The first thing we need to do is import the open-source software libraries that we'll be using in this tutorial."
   ]
  },
  {
   "cell_type": "code",
   "execution_count": 13,
   "metadata": {},
   "outputs": [
    {
     "output_type": "stream",
     "name": "stdout",
     "text": [
      "Requirement already satisfied: xlsxwriter in /usr/local/lib/python3.6/dist-packages (1.3.7)\n",
      "Requirement already satisfied: python-dotenv in /usr/local/lib/python3.6/dist-packages (0.15.0)\n"
     ]
    },
    {
     "output_type": "execute_result",
     "data": {
      "text/plain": [
       "True"
      ]
     },
     "metadata": {},
     "execution_count": 13
    }
   ],
   "source": [
    "!pip install xlsxwriter\n",
    "!pip install python-dotenv\n",
    "\n",
    "import os\n",
    "import numpy as np\n",
    "import pandas as pd\n",
    "import requests\n",
    "import math\n",
    "from scipy import stats\n",
    "import xlsxwriter\n",
    "\n",
    "from dotenv import load_dotenv\n",
    "load_dotenv()"
   ]
  },
  {
   "cell_type": "markdown",
   "metadata": {},
   "source": [
    "## Importing Our List of Stocks\n",
    "\n",
    "As before, we'll need to import our list of stocks and our API token before proceeding. Make sure the `.csv` file is still in your working directory and import it with the following command:"
   ]
  },
  {
   "cell_type": "code",
   "execution_count": 14,
   "metadata": {},
   "outputs": [
    {
     "output_type": "stream",
     "name": "stdout",
     "text": [
      "505\nTpk_059b97af715d417d9f49f50b51b1c448\n"
     ]
    }
   ],
   "source": [
    "pwd = '/content/trading_practice/algorithmic-trading-python/starter_files'\n",
    "\n",
    "stocks = pd.read_csv(f'{pwd}/sp_500_stocks.csv')\n",
    "print(len(stocks.index))\n",
    "\n",
    "token = os.getenv(\"IEX_CLOUD_API_TOKEN\")\n",
    "print(token)"
   ]
  },
  {
   "cell_type": "code",
   "execution_count": null,
   "metadata": {},
   "outputs": [],
   "source": []
  },
  {
   "cell_type": "markdown",
   "metadata": {},
   "source": [
    "## Making Our First API Call\n",
    "\n",
    "It's now time to make the first version of our momentum screener!\n",
    "\n",
    "We need to get one-year price returns for each stock in the universe. Here's how."
   ]
  },
  {
   "cell_type": "code",
   "execution_count": 15,
   "metadata": {},
   "outputs": [
    {
     "output_type": "execute_result",
     "data": {
      "text/plain": [
       "{'avg10Volume': 122705751,\n",
       " 'avg30Volume': 105541037,\n",
       " 'beta': 1.1690099210016751,\n",
       " 'companyName': 'Apple Inc',\n",
       " 'day200MovingAvg': 116.1,\n",
       " 'day30ChangePercent': 0.13755936770161706,\n",
       " 'day50MovingAvg': 124.44,\n",
       " 'day5ChangePercent': 0.04388825950323173,\n",
       " 'dividendYield': 0.00610374853991458,\n",
       " 'employees': 142745,\n",
       " 'exDividendDate': '2020-11-02',\n",
       " 'float': 0,\n",
       " 'marketcap': 2340406823694,\n",
       " 'maxChangePercent': 49.9154829520143,\n",
       " 'month1ChangePercent': 0.13972892773130516,\n",
       " 'month3ChangePercent': 0.18105769835579044,\n",
       " 'month6ChangePercent': 0.4711240894024029,\n",
       " 'nextDividendDate': '0',\n",
       " 'nextEarningsDate': '0',\n",
       " 'peRatio': 39.143011018065785,\n",
       " 'sharesOutstanding': 17168563993,\n",
       " 'ttmDividendRate': 0.8251033452643882,\n",
       " 'ttmEPS': 3.41,\n",
       " 'week52change': 0.8779231612984505,\n",
       " 'week52high': 140.31,\n",
       " 'week52low': 57.77,\n",
       " 'year1ChangePercent': 0.8864823311598857,\n",
       " 'year2ChangePercent': 2.765092438923646,\n",
       " 'year5ChangePercent': 4.312315745483525,\n",
       " 'ytdChangePercent': 0.8479466378045913}"
      ]
     },
     "metadata": {},
     "execution_count": 15
    }
   ],
   "source": [
    "symbol = 'AAPL'\n",
    "api_url = f'https://sandbox.iexapis.com/stable/stock/{symbol}/stats?token={token}'\n",
    "data = requests.get(api_url).json()\n",
    "data"
   ]
  },
  {
   "cell_type": "code",
   "execution_count": null,
   "metadata": {},
   "outputs": [],
   "source": []
  },
  {
   "cell_type": "code",
   "execution_count": null,
   "metadata": {},
   "outputs": [],
   "source": []
  },
  {
   "cell_type": "markdown",
   "metadata": {},
   "source": [
    "## Parsing Our API Call\n",
    "\n",
    "This API call has all the information we need. We can parse it using the same square-bracket notation as in the first project of this course. Here is an example."
   ]
  },
  {
   "cell_type": "code",
   "execution_count": 16,
   "metadata": {},
   "outputs": [
    {
     "output_type": "execute_result",
     "data": {
      "text/plain": [
       "0.8864823311598857"
      ]
     },
     "metadata": {},
     "execution_count": 16
    }
   ],
   "source": [
    "data['year1ChangePercent']"
   ]
  },
  {
   "cell_type": "markdown",
   "metadata": {},
   "source": [
    "## Executing A Batch API Call & Building Our DataFrame\n",
    "\n",
    "Just like in our first project, it's now time to execute several batch API calls and add the information we need to our DataFrame.\n",
    "\n",
    "We'll start by running the following code cell, which contains some code we already built last time that we can re-use for this project. More specifically, it contains a function called `chunks` that we can use to divide our list of securities into groups of 100."
   ]
  },
  {
   "cell_type": "code",
   "execution_count": 17,
   "metadata": {},
   "outputs": [],
   "source": [
    "# Function sourced from \n",
    "# https://stackoverflow.com/questions/312443/how-do-you-split-a-list-into-evenly-sized-chunks\n",
    "def chunks(lst, n):\n",
    "    \"\"\"Yield successive n-sized chunks from lst.\"\"\"\n",
    "    for i in range(0, len(lst), n):\n",
    "        yield lst[i:i + n]   \n",
    "        \n",
    "symbol_groups = list(chunks(stocks['Ticker'], 100))\n",
    "symbol_strings = []\n",
    "for i in range(0, len(symbol_groups)):\n",
    "    symbol_strings.append(','.join(symbol_groups[i]))\n",
    "    # print(symbol_strings[i])\n",
    "\n",
    "my_columns = ['Ticker', 'Price', 'One-Year Price Return', 'Shares to Buy']"
   ]
  },
  {
   "cell_type": "markdown",
   "metadata": {},
   "source": [
    "Now we need to create a blank DataFrame and add our data to the data frame one-by-one."
   ]
  },
  {
   "cell_type": "code",
   "execution_count": 18,
   "metadata": {},
   "outputs": [
    {
     "output_type": "execute_result",
     "data": {
      "text/plain": [
       "    Ticker   Price One-Year Price Return Shares to Buy\n",
       "0        A  117.78              0.397622           N/A\n",
       "1      AAL   16.13             -0.472104           N/A\n",
       "2      AAP  163.45            0.00856321           N/A\n",
       "3     AAPL  137.63              0.906846           N/A\n",
       "4     ABBV  105.44              0.218976           N/A\n",
       "..     ...     ...                   ...           ...\n",
       "500    YUM  111.29             0.0967063           N/A\n",
       "501    ZBH  151.50             -0.001265           N/A\n",
       "502   ZBRA  379.31              0.488791           N/A\n",
       "503   ZION   43.52             -0.128253           N/A\n",
       "504    ZTS  167.99              0.219832           N/A\n",
       "\n",
       "[505 rows x 4 columns]"
      ],
      "text/html": "<div>\n<style scoped>\n    .dataframe tbody tr th:only-of-type {\n        vertical-align: middle;\n    }\n\n    .dataframe tbody tr th {\n        vertical-align: top;\n    }\n\n    .dataframe thead th {\n        text-align: right;\n    }\n</style>\n<table border=\"1\" class=\"dataframe\">\n  <thead>\n    <tr style=\"text-align: right;\">\n      <th></th>\n      <th>Ticker</th>\n      <th>Price</th>\n      <th>One-Year Price Return</th>\n      <th>Shares to Buy</th>\n    </tr>\n  </thead>\n  <tbody>\n    <tr>\n      <th>0</th>\n      <td>A</td>\n      <td>117.78</td>\n      <td>0.397622</td>\n      <td>N/A</td>\n    </tr>\n    <tr>\n      <th>1</th>\n      <td>AAL</td>\n      <td>16.13</td>\n      <td>-0.472104</td>\n      <td>N/A</td>\n    </tr>\n    <tr>\n      <th>2</th>\n      <td>AAP</td>\n      <td>163.45</td>\n      <td>0.00856321</td>\n      <td>N/A</td>\n    </tr>\n    <tr>\n      <th>3</th>\n      <td>AAPL</td>\n      <td>137.63</td>\n      <td>0.906846</td>\n      <td>N/A</td>\n    </tr>\n    <tr>\n      <th>4</th>\n      <td>ABBV</td>\n      <td>105.44</td>\n      <td>0.218976</td>\n      <td>N/A</td>\n    </tr>\n    <tr>\n      <th>...</th>\n      <td>...</td>\n      <td>...</td>\n      <td>...</td>\n      <td>...</td>\n    </tr>\n    <tr>\n      <th>500</th>\n      <td>YUM</td>\n      <td>111.29</td>\n      <td>0.0967063</td>\n      <td>N/A</td>\n    </tr>\n    <tr>\n      <th>501</th>\n      <td>ZBH</td>\n      <td>151.50</td>\n      <td>-0.001265</td>\n      <td>N/A</td>\n    </tr>\n    <tr>\n      <th>502</th>\n      <td>ZBRA</td>\n      <td>379.31</td>\n      <td>0.488791</td>\n      <td>N/A</td>\n    </tr>\n    <tr>\n      <th>503</th>\n      <td>ZION</td>\n      <td>43.52</td>\n      <td>-0.128253</td>\n      <td>N/A</td>\n    </tr>\n    <tr>\n      <th>504</th>\n      <td>ZTS</td>\n      <td>167.99</td>\n      <td>0.219832</td>\n      <td>N/A</td>\n    </tr>\n  </tbody>\n</table>\n<p>505 rows × 4 columns</p>\n</div>"
     },
     "metadata": {},
     "execution_count": 18
    }
   ],
   "source": [
    "import json\n",
    "\n",
    "df = pd.DataFrame(columns = my_columns)\n",
    "\n",
    "batch_url = 'https://sandbox.iexapis.com/stable/stock/market/batch'\n",
    "\n",
    "for symbol_string in symbol_strings:\n",
    "    batch_api_call_url = f'{batch_url}/?types=stats,quote&symbols={symbol_string}&token={token}'\n",
    "    data = requests.get(batch_api_call_url).json()\n",
    "\n",
    "    for symbol in symbol_string.split(','):\n",
    "        df = df.append(\n",
    "            pd.Series(\n",
    "                [\n",
    "                    symbol, \n",
    "                    data[symbol]['quote']['latestPrice'],\n",
    "                    data[symbol]['stats']['year1ChangePercent'],\n",
    "                    'N/A'\n",
    "                ], \n",
    "                index = my_columns), \n",
    "                ignore_index = True\n",
    "                )\n",
    "        \n",
    "    \n",
    "df"
   ]
  },
  {
   "cell_type": "code",
   "execution_count": null,
   "metadata": {},
   "outputs": [],
   "source": []
  },
  {
   "cell_type": "markdown",
   "metadata": {},
   "source": [
    "## Removing Low-Momentum Stocks\n",
    "\n",
    "The investment strategy that we're building seeks to identify the 50 highest-momentum stocks in the S&P 500.\n",
    "\n",
    "Because of this, the next thing we need to do is remove all the stocks in our DataFrame that fall below this momentum threshold. We'll sort the DataFrame by the stocks' one-year price return, and drop all stocks outside the top 50.\n"
   ]
  },
  {
   "cell_type": "code",
   "execution_count": 19,
   "metadata": {},
   "outputs": [
    {
     "output_type": "execute_result",
     "data": {
      "text/plain": [
       "  Ticker   Price One-Year Price Return Shares to Buy\n",
       "0   CARR   39.02                2.2324           N/A\n",
       "1   PYPL  240.98               1.23026           N/A\n",
       "2     LB   39.13               1.19489           N/A\n",
       "3   NVDA  524.38               1.19146           N/A\n",
       "4    ALB  154.99               1.13916           N/A"
      ],
      "text/html": "<div>\n<style scoped>\n    .dataframe tbody tr th:only-of-type {\n        vertical-align: middle;\n    }\n\n    .dataframe tbody tr th {\n        vertical-align: top;\n    }\n\n    .dataframe thead th {\n        text-align: right;\n    }\n</style>\n<table border=\"1\" class=\"dataframe\">\n  <thead>\n    <tr style=\"text-align: right;\">\n      <th></th>\n      <th>Ticker</th>\n      <th>Price</th>\n      <th>One-Year Price Return</th>\n      <th>Shares to Buy</th>\n    </tr>\n  </thead>\n  <tbody>\n    <tr>\n      <th>0</th>\n      <td>CARR</td>\n      <td>39.02</td>\n      <td>2.2324</td>\n      <td>N/A</td>\n    </tr>\n    <tr>\n      <th>1</th>\n      <td>PYPL</td>\n      <td>240.98</td>\n      <td>1.23026</td>\n      <td>N/A</td>\n    </tr>\n    <tr>\n      <th>2</th>\n      <td>LB</td>\n      <td>39.13</td>\n      <td>1.19489</td>\n      <td>N/A</td>\n    </tr>\n    <tr>\n      <th>3</th>\n      <td>NVDA</td>\n      <td>524.38</td>\n      <td>1.19146</td>\n      <td>N/A</td>\n    </tr>\n    <tr>\n      <th>4</th>\n      <td>ALB</td>\n      <td>154.99</td>\n      <td>1.13916</td>\n      <td>N/A</td>\n    </tr>\n  </tbody>\n</table>\n</div>"
     },
     "metadata": {},
     "execution_count": 19
    }
   ],
   "source": [
    "df.sort_values('One-Year Price Return', ascending = False, inplace = True)\n",
    "df = df[:50]\n",
    "\n",
    "df = df.reset_index(level=0, drop=True)\n",
    "\n",
    "df.head()"
   ]
  },
  {
   "cell_type": "markdown",
   "metadata": {},
   "source": [
    "## Calculating the Number of Shares to Buy\n",
    "\n",
    "Just like in the last project, we now need to calculate the number of shares we need to buy. The one change we're going to make is wrapping this functionality inside a function, since we'll be using it again later in this Jupyter Notebook.\n",
    "\n",
    "Since we've already done most of the work on this, try to complete the following two code cells without watching me do it first!"
   ]
  },
  {
   "cell_type": "code",
   "execution_count": 32,
   "metadata": {},
   "outputs": [],
   "source": [
    "def portfolio_size():\n",
    "    global p_size\n",
    "    p_size = input('Enter the size of your portfolio: ')\n",
    "    \n",
    "    try:\n",
    "        float(p_size)\n",
    "    except ValueError:\n",
    "        print(\"Not a number\")\n",
    "        portfolio_size()\n",
    "\n",
    "portfolio_size()"
   ]
  },
  {
   "cell_type": "code",
   "execution_count": 38,
   "metadata": {},
   "outputs": [
    {
     "output_type": "execute_result",
     "data": {
      "text/plain": [
       "  Ticker   Price One-Year Price Return Shares to Buy\n",
       "0   CARR   39.02                2.2324          5125\n",
       "1   PYPL  240.98               1.23026           829\n",
       "2     LB   39.13               1.19489          5111\n",
       "3   NVDA  524.38               1.19146           381\n",
       "4    ALB  154.99               1.13916          1290"
      ],
      "text/html": "<div>\n<style scoped>\n    .dataframe tbody tr th:only-of-type {\n        vertical-align: middle;\n    }\n\n    .dataframe tbody tr th {\n        vertical-align: top;\n    }\n\n    .dataframe thead th {\n        text-align: right;\n    }\n</style>\n<table border=\"1\" class=\"dataframe\">\n  <thead>\n    <tr style=\"text-align: right;\">\n      <th></th>\n      <th>Ticker</th>\n      <th>Price</th>\n      <th>One-Year Price Return</th>\n      <th>Shares to Buy</th>\n    </tr>\n  </thead>\n  <tbody>\n    <tr>\n      <th>0</th>\n      <td>CARR</td>\n      <td>39.02</td>\n      <td>2.2324</td>\n      <td>5125</td>\n    </tr>\n    <tr>\n      <th>1</th>\n      <td>PYPL</td>\n      <td>240.98</td>\n      <td>1.23026</td>\n      <td>829</td>\n    </tr>\n    <tr>\n      <th>2</th>\n      <td>LB</td>\n      <td>39.13</td>\n      <td>1.19489</td>\n      <td>5111</td>\n    </tr>\n    <tr>\n      <th>3</th>\n      <td>NVDA</td>\n      <td>524.38</td>\n      <td>1.19146</td>\n      <td>381</td>\n    </tr>\n    <tr>\n      <th>4</th>\n      <td>ALB</td>\n      <td>154.99</td>\n      <td>1.13916</td>\n      <td>1290</td>\n    </tr>\n  </tbody>\n</table>\n</div>"
     },
     "metadata": {},
     "execution_count": 38
    }
   ],
   "source": [
    "position_size = float(p_size)/len(df)\n",
    "\n",
    "for i in range(0, len(df)):\n",
    "    df.loc[i, 'Shares to Buy'] = math.floor(position_size/df.loc[i, 'Price'])\n",
    "\n",
    "df.head()"
   ]
  },
  {
   "cell_type": "markdown",
   "metadata": {},
   "source": [
    "## Building a Better (and More Realistic) Momentum Strategy\n",
    "\n",
    "Real-world quantitative investment firms differentiate between \"high quality\" and \"low quality\" momentum stocks:\n",
    "\n",
    "* High-quality momentum stocks show \"slow and steady\" outperformance over long periods of time\n",
    "* Low-quality momentum stocks might not show any momentum for a long time, and then surge upwards.\n",
    "\n",
    "The reason why high-quality momentum stocks are preferred is because low-quality momentum can often be cause by short-term news that is unlikely to be repeated in the future (such as an FDA approval for a biotechnology company).\n",
    "\n",
    "To identify high-quality momentum, we're going to build a strategy that selects stocks from the highest percentiles of: \n",
    "\n",
    "* 1-month price returns\n",
    "* 3-month price returns\n",
    "* 6-month price returns\n",
    "* 1-year price returns\n",
    "\n",
    "Let's start by building our DataFrame. You'll notice that I use the abbreviation `hqm` often. It stands for `high-quality momentum`."
   ]
  },
  {
   "cell_type": "code",
   "execution_count": null,
   "metadata": {},
   "outputs": [],
   "source": [
    "hqm_cols = [\n",
    "    'Ticker',\n",
    "    'Price',\n",
    "    'Shares to Buy',\n",
    "    '1Y Price Return',\n",
    "    '1Y Return Percentile',\n",
    "    '6M Price Return',\n",
    "    '6M Return Percentile',\n",
    "    '3M Price Return',\n",
    "    '3M Return Percentile',\n",
    "    '1M Price Return',\n",
    "    '1M Return Percentile',\n",
    "]\n",
    "\n",
    "hqm_df = pd.DataFrame(columns=hqm_cols)\n",
    "\n",
    "for symbol_string in symbol_strings:\n",
    "    batch_api_call_url = f'{batch_url}/?types=stats,quote&symbols={symbol_string}&token={token}'\n",
    "    data = requests.get(batch_api_call_url).json()\n",
    "\n",
    "    for symbol in symbol_string.split(','):\n",
    "        hqm_df = hqm_df.append(\n",
    "            pd.Series(\n",
    "                [\n",
    "                    symbol\n",
    "                    data[symbol]['price'],\n",
    "                    'NA',\n",
    "                    data[symbol]['stats']['year1ChangePercent'],\n",
    "                    'NA',\n",
    "                    data[symbol]['stats']['month6ChangePercent'],\n",
    "                    'NA',\n",
    "                    data[symbol]['stats']['month3ChangePercent'],\n",
    "                    'NA',\n",
    "                    data[symbol]['stats']['month1ChangePercent'],\n",
    "                    'NA',\n",
    "                ], \n",
    "                index = my_columns), \n",
    "                ignore_index = True\n",
    "                )\n"
   ]
  },
  {
   "cell_type": "markdown",
   "metadata": {},
   "source": [
    "## Calculating Momentum Percentiles\n",
    "\n",
    "We now need to calculate momentum percentile scores for every stock in the universe. More specifically, we need to calculate percentile scores for the following metrics for every stock:\n",
    "\n",
    "* `One-Year Price Return`\n",
    "* `Six-Month Price Return`\n",
    "* `Three-Month Price Return`\n",
    "* `One-Month Price Return`\n",
    "\n",
    "Here's how we'll do this:"
   ]
  },
  {
   "cell_type": "code",
   "execution_count": null,
   "metadata": {},
   "outputs": [],
   "source": []
  },
  {
   "cell_type": "markdown",
   "metadata": {},
   "source": [
    "## Calculating the HQM Score\n",
    "\n",
    "We'll now calculate our `HQM Score`, which is the high-quality momentum score that we'll use to filter for stocks in this investing strategy.\n",
    "\n",
    "The `HQM Score` will be the arithmetic mean of the 4 momentum percentile scores that we calculated in the last section.\n",
    "\n",
    "To calculate arithmetic mean, we will use the `mean` function from Python's built-in `statistics` module."
   ]
  },
  {
   "cell_type": "code",
   "execution_count": null,
   "metadata": {},
   "outputs": [],
   "source": []
  },
  {
   "cell_type": "markdown",
   "metadata": {},
   "source": [
    "## Selecting the 50 Best Momentum Stocks\n",
    "\n",
    "As before, we can identify the 50 best momentum stocks in our universe by sorting the DataFrame on the `HQM Score` column and dropping all but the top 50 entries."
   ]
  },
  {
   "cell_type": "code",
   "execution_count": null,
   "metadata": {},
   "outputs": [],
   "source": []
  },
  {
   "cell_type": "markdown",
   "metadata": {},
   "source": [
    "## Calculating the Number of Shares to Buy\n",
    "\n",
    "We'll use the `portfolio_input` function that we created earlier to accept our portfolio size. Then we will use similar logic in a `for` loop to calculate the number of shares to buy for each stock in our investment universe."
   ]
  },
  {
   "cell_type": "code",
   "execution_count": null,
   "metadata": {},
   "outputs": [],
   "source": []
  },
  {
   "cell_type": "code",
   "execution_count": null,
   "metadata": {},
   "outputs": [],
   "source": []
  },
  {
   "cell_type": "markdown",
   "metadata": {},
   "source": [
    "## Formatting Our Excel Output\n",
    "\n",
    "We will be using the XlsxWriter library for Python to create nicely-formatted Excel files.\n",
    "\n",
    "XlsxWriter is an excellent package and offers tons of customization. However, the tradeoff for this is that the library can seem very complicated to new users. Accordingly, this section will be fairly long because I want to do a good job of explaining how XlsxWriter works."
   ]
  },
  {
   "cell_type": "code",
   "execution_count": null,
   "metadata": {},
   "outputs": [],
   "source": []
  },
  {
   "cell_type": "markdown",
   "metadata": {},
   "source": [
    "## Creating the Formats We'll Need For Our .xlsx File\n",
    "\n",
    "You'll recall from our first project that formats include colors, fonts, and also symbols like % and $. We'll need four main formats for our Excel document:\n",
    "\n",
    "* String format for tickers\n",
    "* \\$XX.XX format for stock prices\n",
    "* \\$XX,XXX format for market capitalization\n",
    "* Integer format for the number of shares to purchase\n",
    "\n",
    "Since we already built our formats in the last section of this course, I've included them below for you. Run this code cell before proceeding."
   ]
  },
  {
   "cell_type": "code",
   "execution_count": 21,
   "metadata": {},
   "outputs": [
    {
     "output_type": "error",
     "ename": "NameError",
     "evalue": "name 'writer' is not defined",
     "traceback": [
      "\u001b[0;31m---------------------------------------------------------------------------\u001b[0m",
      "\u001b[0;31mNameError\u001b[0m                                 Traceback (most recent call last)",
      "\u001b[0;32m<ipython-input-21-929b75216063>\u001b[0m in \u001b[0;36m<module>\u001b[0;34m()\u001b[0m\n\u001b[1;32m      2\u001b[0m \u001b[0mfont_color\u001b[0m \u001b[0;34m=\u001b[0m \u001b[0;34m'#ffffff'\u001b[0m\u001b[0;34m\u001b[0m\u001b[0;34m\u001b[0m\u001b[0m\n\u001b[1;32m      3\u001b[0m \u001b[0;34m\u001b[0m\u001b[0m\n\u001b[0;32m----> 4\u001b[0;31m string_template = writer.book.add_format(\n\u001b[0m\u001b[1;32m      5\u001b[0m         {\n\u001b[1;32m      6\u001b[0m             \u001b[0;34m'font_color'\u001b[0m\u001b[0;34m:\u001b[0m \u001b[0mfont_color\u001b[0m\u001b[0;34m,\u001b[0m\u001b[0;34m\u001b[0m\u001b[0;34m\u001b[0m\u001b[0m\n",
      "\u001b[0;31mNameError\u001b[0m: name 'writer' is not defined"
     ]
    }
   ],
   "source": [
    "background_color = '#0a0a23'\n",
    "font_color = '#ffffff'\n",
    "\n",
    "string_template = writer.book.add_format(\n",
    "        {\n",
    "            'font_color': font_color,\n",
    "            'bg_color': background_color,\n",
    "            'border': 1\n",
    "        }\n",
    "    )\n",
    "\n",
    "dollar_template = writer.book.add_format(\n",
    "        {\n",
    "            'num_format':'$0.00',\n",
    "            'font_color': font_color,\n",
    "            'bg_color': background_color,\n",
    "            'border': 1\n",
    "        }\n",
    "    )\n",
    "\n",
    "integer_template = writer.book.add_format(\n",
    "        {\n",
    "            'num_format':'0',\n",
    "            'font_color': font_color,\n",
    "            'bg_color': background_color,\n",
    "            'border': 1\n",
    "        }\n",
    "    )\n",
    "\n",
    "percent_template = writer.book.add_format(\n",
    "        {\n",
    "            'num_format':'0.0%',\n",
    "            'font_color': font_color,\n",
    "            'bg_color': background_color,\n",
    "            'border': 1\n",
    "        }\n",
    "    )"
   ]
  },
  {
   "cell_type": "code",
   "execution_count": null,
   "metadata": {},
   "outputs": [],
   "source": []
  },
  {
   "cell_type": "markdown",
   "metadata": {},
   "source": [
    "## Saving Our Excel Output\n",
    "\n",
    "As before, saving our Excel output is very easy:"
   ]
  },
  {
   "cell_type": "code",
   "execution_count": null,
   "metadata": {},
   "outputs": [],
   "source": []
  }
 ],
 "metadata": {
  "kernelspec": {
   "display_name": "Python 3",
   "language": "python",
   "name": "python3"
  }
 },
 "nbformat": 4,
 "nbformat_minor": 4
}