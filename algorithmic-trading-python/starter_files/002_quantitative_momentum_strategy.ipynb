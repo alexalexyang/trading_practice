{
 "cells": [
  {
   "cell_type": "markdown",
   "metadata": {},
   "source": [
    "# Quantitative Momentum Strategy\n",
    "\n",
    "\"Momentum investing\" means investing in the stocks that have increased in price the most.\n",
    "\n",
    "For this project, we're going to build an investing strategy that selects the 50 stocks with the highest price momentum. From there, we will calculate recommended trades for an equal-weight portfolio of these 50 stocks.\n",
    "\n",
    "\n",
    "## Library Imports\n",
    "\n",
    "The first thing we need to do is import the open-source software libraries that we'll be using in this tutorial."
   ]
  },
  {
   "cell_type": "code",
   "execution_count": 113,
   "metadata": {},
   "outputs": [
    {
     "output_type": "stream",
     "name": "stdout",
     "text": [
      "Requirement already satisfied: xlsxwriter in /usr/local/lib/python3.6/dist-packages (1.3.7)\n",
      "Requirement already satisfied: python-dotenv in /usr/local/lib/python3.6/dist-packages (0.15.0)\n"
     ]
    },
    {
     "output_type": "execute_result",
     "data": {
      "text/plain": [
       "True"
      ]
     },
     "metadata": {},
     "execution_count": 113
    }
   ],
   "source": [
    "!pip install xlsxwriter\n",
    "!pip install python-dotenv\n",
    "\n",
    "import os\n",
    "import numpy as np\n",
    "import pandas as pd\n",
    "import requests\n",
    "import math\n",
    "from scipy.stats import percentileofscore as score\n",
    "import xlsxwriter\n",
    "\n",
    "from dotenv import load_dotenv\n",
    "load_dotenv()"
   ]
  },
  {
   "cell_type": "markdown",
   "metadata": {},
   "source": [
    "## Importing Our List of Stocks\n",
    "\n",
    "As before, we'll need to import our list of stocks and our API token before proceeding. Make sure the `.csv` file is still in your working directory and import it with the following command:"
   ]
  },
  {
   "cell_type": "code",
   "execution_count": 114,
   "metadata": {},
   "outputs": [
    {
     "output_type": "stream",
     "name": "stdout",
     "text": [
      "505\nTpk_059b97af715d417d9f49f50b51b1c448\n"
     ]
    }
   ],
   "source": [
    "pwd = '/content/trading_practice/algorithmic-trading-python/starter_files'\n",
    "\n",
    "stocks = pd.read_csv(f'{pwd}/sp_500_stocks.csv')\n",
    "print(len(stocks.index))\n",
    "\n",
    "token = os.getenv(\"IEX_CLOUD_API_TOKEN\")\n",
    "print(token)"
   ]
  },
  {
   "cell_type": "code",
   "execution_count": null,
   "metadata": {},
   "outputs": [],
   "source": []
  },
  {
   "cell_type": "markdown",
   "metadata": {},
   "source": [
    "## Making Our First API Call\n",
    "\n",
    "It's now time to make the first version of our momentum screener!\n",
    "\n",
    "We need to get one-year price returns for each stock in the universe. Here's how."
   ]
  },
  {
   "cell_type": "code",
   "execution_count": 115,
   "metadata": {},
   "outputs": [
    {
     "output_type": "execute_result",
     "data": {
      "text/plain": [
       "{'avg10Volume': 124160820,\n",
       " 'avg30Volume': 108675361,\n",
       " 'beta': 1.2061666640920932,\n",
       " 'companyName': 'Apple Inc',\n",
       " 'day200MovingAvg': 112.1,\n",
       " 'day30ChangePercent': 0.14122233059080977,\n",
       " 'day50MovingAvg': 123.78,\n",
       " 'day5ChangePercent': 0.04326322296505171,\n",
       " 'dividendYield': 0.006205917858346287,\n",
       " 'employees': 143241,\n",
       " 'exDividendDate': '2020-10-27',\n",
       " 'float': 0,\n",
       " 'marketcap': 2310466775393,\n",
       " 'maxChangePercent': 50.2843132306365,\n",
       " 'month1ChangePercent': 0.14226497640591382,\n",
       " 'month3ChangePercent': 0.18575930813085864,\n",
       " 'month6ChangePercent': 0.4585575766022686,\n",
       " 'nextDividendDate': '0',\n",
       " 'nextEarningsDate': '0',\n",
       " 'peRatio': 40.134467658424875,\n",
       " 'sharesOutstanding': 17158769195,\n",
       " 'ttmDividendRate': 0.8249508634154723,\n",
       " 'ttmEPS': 3.41,\n",
       " 'week52change': 0.8668292580213418,\n",
       " 'week52high': 137.78,\n",
       " 'week52low': 58.06,\n",
       " 'year1ChangePercent': 0.9062892767293468,\n",
       " 'year2ChangePercent': 2.686355755278663,\n",
       " 'year5ChangePercent': 4.484254657645296,\n",
       " 'ytdChangePercent': 0.8498681883227499}"
      ]
     },
     "metadata": {},
     "execution_count": 115
    }
   ],
   "source": [
    "symbol = 'AAPL'\n",
    "api_url = f'https://sandbox.iexapis.com/stable/stock/{symbol}/stats?token={token}'\n",
    "data = requests.get(api_url).json()\n",
    "data"
   ]
  },
  {
   "cell_type": "code",
   "execution_count": null,
   "metadata": {},
   "outputs": [],
   "source": []
  },
  {
   "cell_type": "code",
   "execution_count": null,
   "metadata": {},
   "outputs": [],
   "source": []
  },
  {
   "cell_type": "markdown",
   "metadata": {},
   "source": [
    "## Parsing Our API Call\n",
    "\n",
    "This API call has all the information we need. We can parse it using the same square-bracket notation as in the first project of this course. Here is an example."
   ]
  },
  {
   "cell_type": "code",
   "execution_count": 116,
   "metadata": {},
   "outputs": [
    {
     "output_type": "execute_result",
     "data": {
      "text/plain": [
       "0.9062892767293468"
      ]
     },
     "metadata": {},
     "execution_count": 116
    }
   ],
   "source": [
    "data['year1ChangePercent']"
   ]
  },
  {
   "cell_type": "markdown",
   "metadata": {},
   "source": [
    "## Executing A Batch API Call & Building Our DataFrame\n",
    "\n",
    "Just like in our first project, it's now time to execute several batch API calls and add the information we need to our DataFrame.\n",
    "\n",
    "We'll start by running the following code cell, which contains some code we already built last time that we can re-use for this project. More specifically, it contains a function called `chunks` that we can use to divide our list of securities into groups of 100."
   ]
  },
  {
   "cell_type": "code",
   "execution_count": 117,
   "metadata": {},
   "outputs": [],
   "source": [
    "# Function sourced from \n",
    "# https://stackoverflow.com/questions/312443/how-do-you-split-a-list-into-evenly-sized-chunks\n",
    "def chunks(lst, n):\n",
    "    \"\"\"Yield successive n-sized chunks from lst.\"\"\"\n",
    "    for i in range(0, len(lst), n):\n",
    "        yield lst[i:i + n]   \n",
    "        \n",
    "symbol_groups = list(chunks(stocks['Ticker'], 100))\n",
    "symbol_strings = []\n",
    "for i in range(0, len(symbol_groups)):\n",
    "    symbol_strings.append(','.join(symbol_groups[i]))\n",
    "    # print(symbol_strings[i])\n",
    "\n",
    "my_columns = ['Ticker', 'Price', 'One-Year Price Return', 'Shares to Buy']"
   ]
  },
  {
   "cell_type": "markdown",
   "metadata": {},
   "source": [
    "Now we need to create a blank DataFrame and add our data to the data frame one-by-one."
   ]
  },
  {
   "cell_type": "code",
   "execution_count": 118,
   "metadata": {},
   "outputs": [
    {
     "output_type": "execute_result",
     "data": {
      "text/plain": [
       "    Ticker   Price One-Year Price Return Shares to Buy\n",
       "0        A  122.95              0.402539           N/A\n",
       "1      AAL   16.30             -0.483274           N/A\n",
       "2      AAP  166.61            0.00885897           N/A\n",
       "3     AAPL  136.45              0.905654           N/A\n",
       "4     ABBV  104.55              0.216894           N/A\n",
       "..     ...     ...                   ...           ...\n",
       "500    YUM  108.87             0.0963982           N/A\n",
       "501    ZBH  149.40           -0.00130184           N/A\n",
       "502   ZBRA  386.94              0.505924           N/A\n",
       "503   ZION   44.39             -0.129573           N/A\n",
       "504    ZTS  161.17               0.21616           N/A\n",
       "\n",
       "[505 rows x 4 columns]"
      ],
      "text/html": "<div>\n<style scoped>\n    .dataframe tbody tr th:only-of-type {\n        vertical-align: middle;\n    }\n\n    .dataframe tbody tr th {\n        vertical-align: top;\n    }\n\n    .dataframe thead th {\n        text-align: right;\n    }\n</style>\n<table border=\"1\" class=\"dataframe\">\n  <thead>\n    <tr style=\"text-align: right;\">\n      <th></th>\n      <th>Ticker</th>\n      <th>Price</th>\n      <th>One-Year Price Return</th>\n      <th>Shares to Buy</th>\n    </tr>\n  </thead>\n  <tbody>\n    <tr>\n      <th>0</th>\n      <td>A</td>\n      <td>122.95</td>\n      <td>0.402539</td>\n      <td>N/A</td>\n    </tr>\n    <tr>\n      <th>1</th>\n      <td>AAL</td>\n      <td>16.30</td>\n      <td>-0.483274</td>\n      <td>N/A</td>\n    </tr>\n    <tr>\n      <th>2</th>\n      <td>AAP</td>\n      <td>166.61</td>\n      <td>0.00885897</td>\n      <td>N/A</td>\n    </tr>\n    <tr>\n      <th>3</th>\n      <td>AAPL</td>\n      <td>136.45</td>\n      <td>0.905654</td>\n      <td>N/A</td>\n    </tr>\n    <tr>\n      <th>4</th>\n      <td>ABBV</td>\n      <td>104.55</td>\n      <td>0.216894</td>\n      <td>N/A</td>\n    </tr>\n    <tr>\n      <th>...</th>\n      <td>...</td>\n      <td>...</td>\n      <td>...</td>\n      <td>...</td>\n    </tr>\n    <tr>\n      <th>500</th>\n      <td>YUM</td>\n      <td>108.87</td>\n      <td>0.0963982</td>\n      <td>N/A</td>\n    </tr>\n    <tr>\n      <th>501</th>\n      <td>ZBH</td>\n      <td>149.40</td>\n      <td>-0.00130184</td>\n      <td>N/A</td>\n    </tr>\n    <tr>\n      <th>502</th>\n      <td>ZBRA</td>\n      <td>386.94</td>\n      <td>0.505924</td>\n      <td>N/A</td>\n    </tr>\n    <tr>\n      <th>503</th>\n      <td>ZION</td>\n      <td>44.39</td>\n      <td>-0.129573</td>\n      <td>N/A</td>\n    </tr>\n    <tr>\n      <th>504</th>\n      <td>ZTS</td>\n      <td>161.17</td>\n      <td>0.21616</td>\n      <td>N/A</td>\n    </tr>\n  </tbody>\n</table>\n<p>505 rows × 4 columns</p>\n</div>"
     },
     "metadata": {},
     "execution_count": 118
    }
   ],
   "source": [
    "import json\n",
    "\n",
    "df = pd.DataFrame(columns = my_columns)\n",
    "\n",
    "batch_url = 'https://sandbox.iexapis.com/stable/stock/market/batch'\n",
    "\n",
    "for symbol_string in symbol_strings:\n",
    "    batch_api_call_url = f'{batch_url}/?types=stats,quote&symbols={symbol_string}&token={token}'\n",
    "    data = requests.get(batch_api_call_url).json()\n",
    "\n",
    "    for symbol in symbol_string.split(','):\n",
    "        df = df.append(\n",
    "            pd.Series(\n",
    "                [\n",
    "                    symbol, \n",
    "                    data[symbol]['quote']['latestPrice'],\n",
    "                    data[symbol]['stats']['year1ChangePercent'],\n",
    "                    'N/A'\n",
    "                ], \n",
    "                index = my_columns), \n",
    "                ignore_index = True\n",
    "                )\n",
    "        \n",
    "    \n",
    "df"
   ]
  },
  {
   "cell_type": "code",
   "execution_count": null,
   "metadata": {},
   "outputs": [],
   "source": []
  },
  {
   "cell_type": "markdown",
   "metadata": {},
   "source": [
    "## Removing Low-Momentum Stocks\n",
    "\n",
    "The investment strategy that we're building seeks to identify the 50 highest-momentum stocks in the S&P 500.\n",
    "\n",
    "Because of this, the next thing we need to do is remove all the stocks in our DataFrame that fall below this momentum threshold. We'll sort the DataFrame by the stocks' one-year price return, and drop all stocks outside the top 50.\n"
   ]
  },
  {
   "cell_type": "code",
   "execution_count": 119,
   "metadata": {},
   "outputs": [
    {
     "output_type": "execute_result",
     "data": {
      "text/plain": [
       "  Ticker   Price One-Year Price Return Shares to Buy\n",
       "0   CARR   39.53                2.2465           N/A\n",
       "1   NVDA  528.17               1.20623           N/A\n",
       "2   PYPL  246.34               1.20277           N/A\n",
       "3     LB   40.12               1.17281           N/A\n",
       "4    ALB  154.92               1.13109           N/A"
      ],
      "text/html": "<div>\n<style scoped>\n    .dataframe tbody tr th:only-of-type {\n        vertical-align: middle;\n    }\n\n    .dataframe tbody tr th {\n        vertical-align: top;\n    }\n\n    .dataframe thead th {\n        text-align: right;\n    }\n</style>\n<table border=\"1\" class=\"dataframe\">\n  <thead>\n    <tr style=\"text-align: right;\">\n      <th></th>\n      <th>Ticker</th>\n      <th>Price</th>\n      <th>One-Year Price Return</th>\n      <th>Shares to Buy</th>\n    </tr>\n  </thead>\n  <tbody>\n    <tr>\n      <th>0</th>\n      <td>CARR</td>\n      <td>39.53</td>\n      <td>2.2465</td>\n      <td>N/A</td>\n    </tr>\n    <tr>\n      <th>1</th>\n      <td>NVDA</td>\n      <td>528.17</td>\n      <td>1.20623</td>\n      <td>N/A</td>\n    </tr>\n    <tr>\n      <th>2</th>\n      <td>PYPL</td>\n      <td>246.34</td>\n      <td>1.20277</td>\n      <td>N/A</td>\n    </tr>\n    <tr>\n      <th>3</th>\n      <td>LB</td>\n      <td>40.12</td>\n      <td>1.17281</td>\n      <td>N/A</td>\n    </tr>\n    <tr>\n      <th>4</th>\n      <td>ALB</td>\n      <td>154.92</td>\n      <td>1.13109</td>\n      <td>N/A</td>\n    </tr>\n  </tbody>\n</table>\n</div>"
     },
     "metadata": {},
     "execution_count": 119
    }
   ],
   "source": [
    "df.sort_values('One-Year Price Return', ascending = False, inplace = True)\n",
    "df = df[:50]\n",
    "\n",
    "df = df.reset_index(level=0, drop=True)\n",
    "\n",
    "df.head()"
   ]
  },
  {
   "cell_type": "markdown",
   "metadata": {},
   "source": [
    "## Calculating the Number of Shares to Buy\n",
    "\n",
    "Just like in the last project, we now need to calculate the number of shares we need to buy. The one change we're going to make is wrapping this functionality inside a function, since we'll be using it again later in this Jupyter Notebook.\n",
    "\n",
    "Since we've already done most of the work on this, try to complete the following two code cells without watching me do it first!"
   ]
  },
  {
   "cell_type": "code",
   "execution_count": 120,
   "metadata": {},
   "outputs": [],
   "source": [
    "def portfolio_input():\n",
    "    global p_size\n",
    "    p_size = input('Enter the size of your portfolio: ')\n",
    "    \n",
    "    try:\n",
    "        float(p_size)\n",
    "    except ValueError:\n",
    "        print(\"Not a number\")\n",
    "        portfolio_size()\n",
    "\n",
    "portfolio_input()"
   ]
  },
  {
   "cell_type": "code",
   "execution_count": 121,
   "metadata": {},
   "outputs": [
    {
     "output_type": "execute_result",
     "data": {
      "text/plain": [
       "  Ticker   Price One-Year Price Return Shares to Buy\n",
       "0   CARR   39.53                2.2465          5059\n",
       "1   NVDA  528.17               1.20623           378\n",
       "2   PYPL  246.34               1.20277           811\n",
       "3     LB   40.12               1.17281          4985\n",
       "4    ALB  154.92               1.13109          1290"
      ],
      "text/html": "<div>\n<style scoped>\n    .dataframe tbody tr th:only-of-type {\n        vertical-align: middle;\n    }\n\n    .dataframe tbody tr th {\n        vertical-align: top;\n    }\n\n    .dataframe thead th {\n        text-align: right;\n    }\n</style>\n<table border=\"1\" class=\"dataframe\">\n  <thead>\n    <tr style=\"text-align: right;\">\n      <th></th>\n      <th>Ticker</th>\n      <th>Price</th>\n      <th>One-Year Price Return</th>\n      <th>Shares to Buy</th>\n    </tr>\n  </thead>\n  <tbody>\n    <tr>\n      <th>0</th>\n      <td>CARR</td>\n      <td>39.53</td>\n      <td>2.2465</td>\n      <td>5059</td>\n    </tr>\n    <tr>\n      <th>1</th>\n      <td>NVDA</td>\n      <td>528.17</td>\n      <td>1.20623</td>\n      <td>378</td>\n    </tr>\n    <tr>\n      <th>2</th>\n      <td>PYPL</td>\n      <td>246.34</td>\n      <td>1.20277</td>\n      <td>811</td>\n    </tr>\n    <tr>\n      <th>3</th>\n      <td>LB</td>\n      <td>40.12</td>\n      <td>1.17281</td>\n      <td>4985</td>\n    </tr>\n    <tr>\n      <th>4</th>\n      <td>ALB</td>\n      <td>154.92</td>\n      <td>1.13109</td>\n      <td>1290</td>\n    </tr>\n  </tbody>\n</table>\n</div>"
     },
     "metadata": {},
     "execution_count": 121
    }
   ],
   "source": [
    "position_size = float(p_size)/len(df)\n",
    "\n",
    "for i in range(0, len(df)):\n",
    "    df.loc[i, 'Shares to Buy'] = math.floor(position_size/df.loc[i, 'Price'])\n",
    "\n",
    "df.head()"
   ]
  },
  {
   "cell_type": "markdown",
   "metadata": {},
   "source": [
    "## Building a Better (and More Realistic) Momentum Strategy\n",
    "\n",
    "Real-world quantitative investment firms differentiate between \"high quality\" and \"low quality\" momentum stocks:\n",
    "\n",
    "* High-quality momentum stocks show \"slow and steady\" outperformance over long periods of time\n",
    "* Low-quality momentum stocks might not show any momentum for a long time, and then surge upwards.\n",
    "\n",
    "The reason why high-quality momentum stocks are preferred is because low-quality momentum can often be cause by short-term news that is unlikely to be repeated in the future (such as an FDA approval for a biotechnology company).\n",
    "\n",
    "To identify high-quality momentum, we're going to build a strategy that selects stocks from the highest percentiles of: \n",
    "\n",
    "* 1-month price returns\n",
    "* 3-month price returns\n",
    "* 6-month price returns\n",
    "* 1-year price returns\n",
    "\n",
    "Let's start by building our DataFrame. You'll notice that I use the abbreviation `hqm` often. It stands for `high-quality momentum`."
   ]
  },
  {
   "cell_type": "code",
   "execution_count": 122,
   "metadata": {
    "tags": []
   },
   "outputs": [
    {
     "output_type": "execute_result",
     "data": {
      "text/plain": [
       "    Ticker   Price Shares to Buy  ... 1M Price Return 1M Return Percentile HQM Score\n",
       "0        A  123.11            NA  ...       0.0262624                   NA        NA\n",
       "1      AAL   15.98            NA  ...       0.0495463                   NA        NA\n",
       "2      AAP  165.57            NA  ...       0.0801797                   NA        NA\n",
       "3     AAPL  133.22            NA  ...        0.137749                   NA        NA\n",
       "4     ABBV  103.60            NA  ...     -0.00916299                   NA        NA\n",
       "..     ...     ...           ...  ...             ...                  ...       ...\n",
       "500    YUM  108.58            NA  ...       0.0090911                   NA        NA\n",
       "501    ZBH  150.05            NA  ...     -0.00130799                   NA        NA\n",
       "502   ZBRA  385.34            NA  ...       0.0114366                   NA        NA\n",
       "503   ZION   43.93            NA  ...        0.060065                   NA        NA\n",
       "504    ZTS  166.90            NA  ...      0.00340529                   NA        NA\n",
       "\n",
       "[505 rows x 12 columns]"
      ],
      "text/html": "<div>\n<style scoped>\n    .dataframe tbody tr th:only-of-type {\n        vertical-align: middle;\n    }\n\n    .dataframe tbody tr th {\n        vertical-align: top;\n    }\n\n    .dataframe thead th {\n        text-align: right;\n    }\n</style>\n<table border=\"1\" class=\"dataframe\">\n  <thead>\n    <tr style=\"text-align: right;\">\n      <th></th>\n      <th>Ticker</th>\n      <th>Price</th>\n      <th>Shares to Buy</th>\n      <th>1Y Price Return</th>\n      <th>1Y Return Percentile</th>\n      <th>6M Price Return</th>\n      <th>6M Return Percentile</th>\n      <th>3M Price Return</th>\n      <th>3M Return Percentile</th>\n      <th>1M Price Return</th>\n      <th>1M Return Percentile</th>\n      <th>HQM Score</th>\n    </tr>\n  </thead>\n  <tbody>\n    <tr>\n      <th>0</th>\n      <td>A</td>\n      <td>123.11</td>\n      <td>NA</td>\n      <td>0.39187</td>\n      <td>NA</td>\n      <td>0.349718</td>\n      <td>NA</td>\n      <td>0.208783</td>\n      <td>NA</td>\n      <td>0.0262624</td>\n      <td>NA</td>\n      <td>NA</td>\n    </tr>\n    <tr>\n      <th>1</th>\n      <td>AAL</td>\n      <td>15.98</td>\n      <td>NA</td>\n      <td>-0.47898</td>\n      <td>NA</td>\n      <td>0.196907</td>\n      <td>NA</td>\n      <td>0.275425</td>\n      <td>NA</td>\n      <td>0.0495463</td>\n      <td>NA</td>\n      <td>NA</td>\n    </tr>\n    <tr>\n      <th>2</th>\n      <td>AAP</td>\n      <td>165.57</td>\n      <td>NA</td>\n      <td>0.00885747</td>\n      <td>NA</td>\n      <td>0.128471</td>\n      <td>NA</td>\n      <td>0.0788183</td>\n      <td>NA</td>\n      <td>0.0801797</td>\n      <td>NA</td>\n      <td>NA</td>\n    </tr>\n    <tr>\n      <th>3</th>\n      <td>AAPL</td>\n      <td>133.22</td>\n      <td>NA</td>\n      <td>0.880961</td>\n      <td>NA</td>\n      <td>0.45663</td>\n      <td>NA</td>\n      <td>0.178799</td>\n      <td>NA</td>\n      <td>0.137749</td>\n      <td>NA</td>\n      <td>NA</td>\n    </tr>\n    <tr>\n      <th>4</th>\n      <td>ABBV</td>\n      <td>103.60</td>\n      <td>NA</td>\n      <td>0.216597</td>\n      <td>NA</td>\n      <td>0.0928122</td>\n      <td>NA</td>\n      <td>0.218888</td>\n      <td>NA</td>\n      <td>-0.00916299</td>\n      <td>NA</td>\n      <td>NA</td>\n    </tr>\n    <tr>\n      <th>...</th>\n      <td>...</td>\n      <td>...</td>\n      <td>...</td>\n      <td>...</td>\n      <td>...</td>\n      <td>...</td>\n      <td>...</td>\n      <td>...</td>\n      <td>...</td>\n      <td>...</td>\n      <td>...</td>\n      <td>...</td>\n    </tr>\n    <tr>\n      <th>500</th>\n      <td>YUM</td>\n      <td>108.58</td>\n      <td>NA</td>\n      <td>0.0965299</td>\n      <td>NA</td>\n      <td>0.273913</td>\n      <td>NA</td>\n      <td>0.182414</td>\n      <td>NA</td>\n      <td>0.0090911</td>\n      <td>NA</td>\n      <td>NA</td>\n    </tr>\n    <tr>\n      <th>501</th>\n      <td>ZBH</td>\n      <td>150.05</td>\n      <td>NA</td>\n      <td>-0.00130589</td>\n      <td>NA</td>\n      <td>0.303272</td>\n      <td>NA</td>\n      <td>0.111588</td>\n      <td>NA</td>\n      <td>-0.00130799</td>\n      <td>NA</td>\n      <td>NA</td>\n    </tr>\n    <tr>\n      <th>502</th>\n      <td>ZBRA</td>\n      <td>385.34</td>\n      <td>NA</td>\n      <td>0.485337</td>\n      <td>NA</td>\n      <td>0.502401</td>\n      <td>NA</td>\n      <td>0.475399</td>\n      <td>NA</td>\n      <td>0.0114366</td>\n      <td>NA</td>\n      <td>NA</td>\n    </tr>\n    <tr>\n      <th>503</th>\n      <td>ZION</td>\n      <td>43.93</td>\n      <td>NA</td>\n      <td>-0.133106</td>\n      <td>NA</td>\n      <td>0.297165</td>\n      <td>NA</td>\n      <td>0.548449</td>\n      <td>NA</td>\n      <td>0.060065</td>\n      <td>NA</td>\n      <td>NA</td>\n    </tr>\n    <tr>\n      <th>504</th>\n      <td>ZTS</td>\n      <td>166.90</td>\n      <td>NA</td>\n      <td>0.223327</td>\n      <td>NA</td>\n      <td>0.191742</td>\n      <td>NA</td>\n      <td>0.000515507</td>\n      <td>NA</td>\n      <td>0.00340529</td>\n      <td>NA</td>\n      <td>NA</td>\n    </tr>\n  </tbody>\n</table>\n<p>505 rows × 12 columns</p>\n</div>"
     },
     "metadata": {},
     "execution_count": 122
    }
   ],
   "source": [
    "hqm_cols = [\n",
    "    'Ticker',\n",
    "    'Price',\n",
    "    'Shares to Buy',\n",
    "    '1Y Price Return',\n",
    "    '1Y Return Percentile',\n",
    "    '6M Price Return',\n",
    "    '6M Return Percentile',\n",
    "    '3M Price Return',\n",
    "    '3M Return Percentile',\n",
    "    '1M Price Return',\n",
    "    '1M Return Percentile',\n",
    "    'HQM Score'\n",
    "]\n",
    "\n",
    "hqm_df = pd.DataFrame(columns=hqm_cols)\n",
    "\n",
    "for symbol_string in symbol_strings:\n",
    "    batch_api_call_url = f'{batch_url}/?types=stats,quote&symbols={symbol_string}&token={token}'\n",
    "    data = requests.get(batch_api_call_url).json()\n",
    "\n",
    "    for symbol in symbol_string.split(','):\n",
    "        hqm_df = hqm_df.append(\n",
    "            pd.Series(\n",
    "                [\n",
    "                    symbol,\n",
    "                    data[symbol]['quote']['latestPrice'],\n",
    "                    'NA',\n",
    "                    data[symbol]['stats']['year1ChangePercent'],\n",
    "                    'NA',\n",
    "                    data[symbol]['stats']['month6ChangePercent'],\n",
    "                    'NA',\n",
    "                    data[symbol]['stats']['month3ChangePercent'],\n",
    "                    'NA',\n",
    "                    data[symbol]['stats']['month1ChangePercent'],\n",
    "                    'NA',\n",
    "                    'NA'\n",
    "                ], \n",
    "                index = hqm_cols), \n",
    "                ignore_index = True\n",
    "                )\n",
    "hqm_df"
   ]
  },
  {
   "cell_type": "markdown",
   "metadata": {},
   "source": [
    "## Calculating Momentum Percentiles\n",
    "\n",
    "We now need to calculate momentum percentile scores for every stock in the universe. More specifically, we need to calculate percentile scores for the following metrics for every stock:\n",
    "\n",
    "* `One-Year Price Return`\n",
    "* `Six-Month Price Return`\n",
    "* `Three-Month Price Return`\n",
    "* `One-Month Price Return`\n",
    "\n",
    "Here's how we'll do this:"
   ]
  },
  {
   "cell_type": "code",
   "execution_count": 123,
   "metadata": {},
   "outputs": [
    {
     "output_type": "execute_result",
     "data": {
      "text/plain": [
       "    Ticker   Price Shares to Buy  ... 1M Price Return 1M Return Percentile HQM Score\n",
       "0        A  123.11            NA  ...       0.0262624              61.3861        NA\n",
       "1      AAL   15.98            NA  ...       0.0495463              74.0594        NA\n",
       "2      AAP  165.57            NA  ...       0.0801797              85.1485        NA\n",
       "3     AAPL  133.22            NA  ...        0.137749              95.4455        NA\n",
       "4     ABBV  103.60            NA  ...     -0.00916299              35.2475        NA\n",
       "..     ...     ...           ...  ...             ...                  ...       ...\n",
       "500    YUM  108.58            NA  ...       0.0090911              48.1188        NA\n",
       "501    ZBH  150.05            NA  ...     -0.00130799               39.802        NA\n",
       "502   ZBRA  385.34            NA  ...       0.0114366               50.297        NA\n",
       "503   ZION   43.93            NA  ...        0.060065              78.4158        NA\n",
       "504    ZTS  166.90            NA  ...      0.00340529              43.7624        NA\n",
       "\n",
       "[505 rows x 12 columns]"
      ],
      "text/html": "<div>\n<style scoped>\n    .dataframe tbody tr th:only-of-type {\n        vertical-align: middle;\n    }\n\n    .dataframe tbody tr th {\n        vertical-align: top;\n    }\n\n    .dataframe thead th {\n        text-align: right;\n    }\n</style>\n<table border=\"1\" class=\"dataframe\">\n  <thead>\n    <tr style=\"text-align: right;\">\n      <th></th>\n      <th>Ticker</th>\n      <th>Price</th>\n      <th>Shares to Buy</th>\n      <th>1Y Price Return</th>\n      <th>1Y Return Percentile</th>\n      <th>6M Price Return</th>\n      <th>6M Return Percentile</th>\n      <th>3M Price Return</th>\n      <th>3M Return Percentile</th>\n      <th>1M Price Return</th>\n      <th>1M Return Percentile</th>\n      <th>HQM Score</th>\n    </tr>\n  </thead>\n  <tbody>\n    <tr>\n      <th>0</th>\n      <td>A</td>\n      <td>123.11</td>\n      <td>NA</td>\n      <td>0.39187</td>\n      <td>84.7525</td>\n      <td>0.349718</td>\n      <td>68.3168</td>\n      <td>0.208783</td>\n      <td>57.2277</td>\n      <td>0.0262624</td>\n      <td>61.3861</td>\n      <td>NA</td>\n    </tr>\n    <tr>\n      <th>1</th>\n      <td>AAL</td>\n      <td>15.98</td>\n      <td>NA</td>\n      <td>-0.47898</td>\n      <td>1.78218</td>\n      <td>0.196907</td>\n      <td>41.5842</td>\n      <td>0.275425</td>\n      <td>71.2871</td>\n      <td>0.0495463</td>\n      <td>74.0594</td>\n      <td>NA</td>\n    </tr>\n    <tr>\n      <th>2</th>\n      <td>AAP</td>\n      <td>165.57</td>\n      <td>NA</td>\n      <td>0.00885747</td>\n      <td>40</td>\n      <td>0.128471</td>\n      <td>28.9109</td>\n      <td>0.0788183</td>\n      <td>29.703</td>\n      <td>0.0801797</td>\n      <td>85.1485</td>\n      <td>NA</td>\n    </tr>\n    <tr>\n      <th>3</th>\n      <td>AAPL</td>\n      <td>133.22</td>\n      <td>NA</td>\n      <td>0.880961</td>\n      <td>97.4257</td>\n      <td>0.45663</td>\n      <td>81.7822</td>\n      <td>0.178799</td>\n      <td>50.8911</td>\n      <td>0.137749</td>\n      <td>95.4455</td>\n      <td>NA</td>\n    </tr>\n    <tr>\n      <th>4</th>\n      <td>ABBV</td>\n      <td>103.60</td>\n      <td>NA</td>\n      <td>0.216597</td>\n      <td>68.7129</td>\n      <td>0.0928122</td>\n      <td>22.5743</td>\n      <td>0.218888</td>\n      <td>60.396</td>\n      <td>-0.00916299</td>\n      <td>35.2475</td>\n      <td>NA</td>\n    </tr>\n    <tr>\n      <th>...</th>\n      <td>...</td>\n      <td>...</td>\n      <td>...</td>\n      <td>...</td>\n      <td>...</td>\n      <td>...</td>\n      <td>...</td>\n      <td>...</td>\n      <td>...</td>\n      <td>...</td>\n      <td>...</td>\n      <td>...</td>\n    </tr>\n    <tr>\n      <th>500</th>\n      <td>YUM</td>\n      <td>108.58</td>\n      <td>NA</td>\n      <td>0.0965299</td>\n      <td>52.8713</td>\n      <td>0.273913</td>\n      <td>56.4356</td>\n      <td>0.182414</td>\n      <td>51.4851</td>\n      <td>0.0090911</td>\n      <td>48.1188</td>\n      <td>NA</td>\n    </tr>\n    <tr>\n      <th>501</th>\n      <td>ZBH</td>\n      <td>150.05</td>\n      <td>NA</td>\n      <td>-0.00130589</td>\n      <td>37.4257</td>\n      <td>0.303272</td>\n      <td>61.9802</td>\n      <td>0.111588</td>\n      <td>37.8218</td>\n      <td>-0.00130799</td>\n      <td>39.802</td>\n      <td>NA</td>\n    </tr>\n    <tr>\n      <th>502</th>\n      <td>ZBRA</td>\n      <td>385.34</td>\n      <td>NA</td>\n      <td>0.485337</td>\n      <td>91.8812</td>\n      <td>0.502401</td>\n      <td>86.5347</td>\n      <td>0.475399</td>\n      <td>92.2772</td>\n      <td>0.0114366</td>\n      <td>50.297</td>\n      <td>NA</td>\n    </tr>\n    <tr>\n      <th>503</th>\n      <td>ZION</td>\n      <td>43.93</td>\n      <td>NA</td>\n      <td>-0.133106</td>\n      <td>21.1881</td>\n      <td>0.297165</td>\n      <td>60.396</td>\n      <td>0.548449</td>\n      <td>95.2475</td>\n      <td>0.060065</td>\n      <td>78.4158</td>\n      <td>NA</td>\n    </tr>\n    <tr>\n      <th>504</th>\n      <td>ZTS</td>\n      <td>166.90</td>\n      <td>NA</td>\n      <td>0.223327</td>\n      <td>69.901</td>\n      <td>0.191742</td>\n      <td>40.396</td>\n      <td>0.000515507</td>\n      <td>11.4851</td>\n      <td>0.00340529</td>\n      <td>43.7624</td>\n      <td>NA</td>\n    </tr>\n  </tbody>\n</table>\n<p>505 rows × 12 columns</p>\n</div>"
     },
     "metadata": {},
     "execution_count": 123
    }
   ],
   "source": [
    "time_periods = [\n",
    "                '1Y',\n",
    "                '6M',\n",
    "                '3M',\n",
    "                '1M'\n",
    "                ]\n",
    "\n",
    "for row in hqm_df.index:\n",
    "    for time_period in time_periods:\n",
    "        if hqm_df.loc[row, f'{time_period} Price Return'] == None:\n",
    "            hqm_df.loc[row, f'{time_period} Price Return'] = 0\n",
    "\n",
    "for row in hqm_df.index:\n",
    "    for time_period in time_periods:\n",
    "\n",
    "        change_col = f'{time_period} Price Return'\n",
    "        percentile_col = f'{time_period} Return Percentile'\n",
    "\n",
    "        hqm_df.loc[row, percentile_col] = score(\n",
    "            hqm_df[change_col], \n",
    "            hqm_df.loc[row, change_col]\n",
    "            )\n",
    "\n",
    "# Print each percentile score to make sure it was calculated properly\n",
    "# for time_period in time_periods:\n",
    "#     print(hqm_df[f'{time_period} Return Percentile'])\n",
    "\n",
    "#Print the entire DataFrame    \n",
    "hqm_df"
   ]
  },
  {
   "cell_type": "markdown",
   "metadata": {},
   "source": [
    "## Calculating the HQM Score\n",
    "\n",
    "We'll now calculate our `HQM Score`, which is the high-quality momentum score that we'll use to filter for stocks in this investing strategy.\n",
    "\n",
    "The `HQM Score` will be the arithmetic mean of the 4 momentum percentile scores that we calculated in the last section.\n",
    "\n",
    "To calculate arithmetic mean, we will use the `mean` function from Python's built-in `statistics` module."
   ]
  },
  {
   "cell_type": "code",
   "execution_count": 124,
   "metadata": {},
   "outputs": [
    {
     "output_type": "execute_result",
     "data": {
      "text/plain": [
       "    Ticker   Price Shares to Buy  ... 1M Price Return 1M Return Percentile HQM Score\n",
       "0        A  123.11            NA  ...       0.0262624              61.3861   67.9208\n",
       "1      AAL   15.98            NA  ...       0.0495463              74.0594   47.1782\n",
       "2      AAP  165.57            NA  ...       0.0801797              85.1485   45.9406\n",
       "3     AAPL  133.22            NA  ...        0.137749              95.4455   81.3861\n",
       "4     ABBV  103.60            NA  ...     -0.00916299              35.2475   46.7327\n",
       "..     ...     ...           ...  ...             ...                  ...       ...\n",
       "500    YUM  108.58            NA  ...       0.0090911              48.1188   52.2277\n",
       "501    ZBH  150.05            NA  ...     -0.00130799               39.802   44.2574\n",
       "502   ZBRA  385.34            NA  ...       0.0114366               50.297   80.2475\n",
       "503   ZION   43.93            NA  ...        0.060065              78.4158   63.8119\n",
       "504    ZTS  166.90            NA  ...      0.00340529              43.7624   41.3861\n",
       "\n",
       "[505 rows x 12 columns]"
      ],
      "text/html": "<div>\n<style scoped>\n    .dataframe tbody tr th:only-of-type {\n        vertical-align: middle;\n    }\n\n    .dataframe tbody tr th {\n        vertical-align: top;\n    }\n\n    .dataframe thead th {\n        text-align: right;\n    }\n</style>\n<table border=\"1\" class=\"dataframe\">\n  <thead>\n    <tr style=\"text-align: right;\">\n      <th></th>\n      <th>Ticker</th>\n      <th>Price</th>\n      <th>Shares to Buy</th>\n      <th>1Y Price Return</th>\n      <th>1Y Return Percentile</th>\n      <th>6M Price Return</th>\n      <th>6M Return Percentile</th>\n      <th>3M Price Return</th>\n      <th>3M Return Percentile</th>\n      <th>1M Price Return</th>\n      <th>1M Return Percentile</th>\n      <th>HQM Score</th>\n    </tr>\n  </thead>\n  <tbody>\n    <tr>\n      <th>0</th>\n      <td>A</td>\n      <td>123.11</td>\n      <td>NA</td>\n      <td>0.39187</td>\n      <td>84.7525</td>\n      <td>0.349718</td>\n      <td>68.3168</td>\n      <td>0.208783</td>\n      <td>57.2277</td>\n      <td>0.0262624</td>\n      <td>61.3861</td>\n      <td>67.9208</td>\n    </tr>\n    <tr>\n      <th>1</th>\n      <td>AAL</td>\n      <td>15.98</td>\n      <td>NA</td>\n      <td>-0.47898</td>\n      <td>1.78218</td>\n      <td>0.196907</td>\n      <td>41.5842</td>\n      <td>0.275425</td>\n      <td>71.2871</td>\n      <td>0.0495463</td>\n      <td>74.0594</td>\n      <td>47.1782</td>\n    </tr>\n    <tr>\n      <th>2</th>\n      <td>AAP</td>\n      <td>165.57</td>\n      <td>NA</td>\n      <td>0.00885747</td>\n      <td>40</td>\n      <td>0.128471</td>\n      <td>28.9109</td>\n      <td>0.0788183</td>\n      <td>29.703</td>\n      <td>0.0801797</td>\n      <td>85.1485</td>\n      <td>45.9406</td>\n    </tr>\n    <tr>\n      <th>3</th>\n      <td>AAPL</td>\n      <td>133.22</td>\n      <td>NA</td>\n      <td>0.880961</td>\n      <td>97.4257</td>\n      <td>0.45663</td>\n      <td>81.7822</td>\n      <td>0.178799</td>\n      <td>50.8911</td>\n      <td>0.137749</td>\n      <td>95.4455</td>\n      <td>81.3861</td>\n    </tr>\n    <tr>\n      <th>4</th>\n      <td>ABBV</td>\n      <td>103.60</td>\n      <td>NA</td>\n      <td>0.216597</td>\n      <td>68.7129</td>\n      <td>0.0928122</td>\n      <td>22.5743</td>\n      <td>0.218888</td>\n      <td>60.396</td>\n      <td>-0.00916299</td>\n      <td>35.2475</td>\n      <td>46.7327</td>\n    </tr>\n    <tr>\n      <th>...</th>\n      <td>...</td>\n      <td>...</td>\n      <td>...</td>\n      <td>...</td>\n      <td>...</td>\n      <td>...</td>\n      <td>...</td>\n      <td>...</td>\n      <td>...</td>\n      <td>...</td>\n      <td>...</td>\n      <td>...</td>\n    </tr>\n    <tr>\n      <th>500</th>\n      <td>YUM</td>\n      <td>108.58</td>\n      <td>NA</td>\n      <td>0.0965299</td>\n      <td>52.8713</td>\n      <td>0.273913</td>\n      <td>56.4356</td>\n      <td>0.182414</td>\n      <td>51.4851</td>\n      <td>0.0090911</td>\n      <td>48.1188</td>\n      <td>52.2277</td>\n    </tr>\n    <tr>\n      <th>501</th>\n      <td>ZBH</td>\n      <td>150.05</td>\n      <td>NA</td>\n      <td>-0.00130589</td>\n      <td>37.4257</td>\n      <td>0.303272</td>\n      <td>61.9802</td>\n      <td>0.111588</td>\n      <td>37.8218</td>\n      <td>-0.00130799</td>\n      <td>39.802</td>\n      <td>44.2574</td>\n    </tr>\n    <tr>\n      <th>502</th>\n      <td>ZBRA</td>\n      <td>385.34</td>\n      <td>NA</td>\n      <td>0.485337</td>\n      <td>91.8812</td>\n      <td>0.502401</td>\n      <td>86.5347</td>\n      <td>0.475399</td>\n      <td>92.2772</td>\n      <td>0.0114366</td>\n      <td>50.297</td>\n      <td>80.2475</td>\n    </tr>\n    <tr>\n      <th>503</th>\n      <td>ZION</td>\n      <td>43.93</td>\n      <td>NA</td>\n      <td>-0.133106</td>\n      <td>21.1881</td>\n      <td>0.297165</td>\n      <td>60.396</td>\n      <td>0.548449</td>\n      <td>95.2475</td>\n      <td>0.060065</td>\n      <td>78.4158</td>\n      <td>63.8119</td>\n    </tr>\n    <tr>\n      <th>504</th>\n      <td>ZTS</td>\n      <td>166.90</td>\n      <td>NA</td>\n      <td>0.223327</td>\n      <td>69.901</td>\n      <td>0.191742</td>\n      <td>40.396</td>\n      <td>0.000515507</td>\n      <td>11.4851</td>\n      <td>0.00340529</td>\n      <td>43.7624</td>\n      <td>41.3861</td>\n    </tr>\n  </tbody>\n</table>\n<p>505 rows × 12 columns</p>\n</div>"
     },
     "metadata": {},
     "execution_count": 124
    }
   ],
   "source": [
    "from statistics import mean\n",
    "\n",
    "for row in hqm_df.index:\n",
    "    momentum_percentiles = []\n",
    "\n",
    "    for time_period in time_periods:\n",
    "        momentum_percentiles.append(\n",
    "            hqm_df.loc[row, f'{time_period} Return Percentile']\n",
    "        )\n",
    "    \n",
    "    hqm_df.loc[row, 'HQM Score'] = mean(momentum_percentiles)\n",
    "\n",
    "hqm_df"
   ]
  },
  {
   "cell_type": "markdown",
   "metadata": {},
   "source": [
    "## Selecting the 50 Best Momentum Stocks\n",
    "\n",
    "As before, we can identify the 50 best momentum stocks in our universe by sorting the DataFrame on the `HQM Score` column and dropping all but the top 50 entries."
   ]
  },
  {
   "cell_type": "code",
   "execution_count": 125,
   "metadata": {},
   "outputs": [
    {
     "output_type": "execute_result",
     "data": {
      "text/plain": [
       "   Ticker   Price Shares to Buy  ... 1M Price Return 1M Return Percentile HQM Score\n",
       "0     ALB  152.92            NA  ...        0.119026              93.8614   97.8218\n",
       "1    ALGN  528.62            NA  ...        0.120058              94.2574   97.7228\n",
       "2    PAYC  465.49            NA  ...          0.1399              95.8416   93.6634\n",
       "3     FCX   25.57            NA  ...       0.0531065              76.0396   92.7723\n",
       "4    SIVB  390.36            NA  ...       0.0613533              79.2079   91.4851\n",
       "5    LRCX  501.32            NA  ...       0.0812466              85.7426   91.1881\n",
       "6    IDXX  521.25            NA  ...        0.117632              92.8713        90\n",
       "7    APTV  130.78            NA  ...       0.0853381              86.1386   89.4554\n",
       "8    QRVO  170.77            NA  ...        0.131249              94.8515   88.8119\n",
       "9    TWTR   55.95            NA  ...        0.170215              97.8218   88.6634\n",
       "10   CDNS  138.00            NA  ...        0.187724              98.4158   88.2178\n",
       "11   XLNX  145.46            NA  ...        0.047755              73.4653   86.3861\n",
       "12    DIS  174.38            NA  ...        0.169276              97.2277   86.3861\n",
       "13   NTAP   66.50            NA  ...        0.237722              99.4059   85.3465\n",
       "14     MS   70.34            NA  ...       0.0729012              83.7624   85.2475\n",
       "15     MU   70.71            NA  ...        0.113472              91.6832    85.198\n",
       "16    DVA  117.48            NA  ...       0.0526547              75.4455    85.198\n",
       "17   IPGP  222.07            NA  ...       0.0964095              89.1089   84.9505\n",
       "18   PYPL  248.77            NA  ...        0.114438              92.2772   84.7525\n",
       "19   ALXN  154.60            NA  ...        0.243637               99.604   84.2574\n",
       "20    DFS   91.98            NA  ...        0.117845              93.0693   84.0099\n",
       "21    PWR   71.60            NA  ...       0.0179483              55.6436   83.9604\n",
       "22   QCOM  152.43            NA  ...       0.0384076              68.9109   83.8614\n",
       "23    TPR   31.35            NA  ...       0.0403158               70.297   83.8119\n",
       "24   TTWO  203.30            NA  ...        0.169246              97.0297   83.8119\n",
       "25   MXIM   88.84            NA  ...       0.0668504              81.3861   83.7624\n",
       "26   AMAT   87.65            NA  ...       0.0535757              76.2376   83.6634\n",
       "27    AES   23.45            NA  ...        0.113753              91.8812   83.4653\n",
       "28   ANET  301.14            NA  ...       0.0687894              81.9802   83.1683\n",
       "29     DE  271.58            NA  ...       0.0508073              75.2475   82.8218\n",
       "30   SNPS  259.34            NA  ...        0.189326              98.6139   82.4257\n",
       "31    HPQ   24.52            NA  ...        0.103481               90.297   82.3267\n",
       "32   ADSK  303.19            NA  ...        0.114191              92.0792   81.9307\n",
       "33   CTVA   40.90            NA  ...       0.0245622               60.396   81.7327\n",
       "34   AAPL  133.22            NA  ...        0.137749              95.4455   81.3861\n",
       "35    AMD   92.20            NA  ...       0.0602538              78.6139   81.1386\n",
       "36   KLAC  262.07            NA  ...       0.0416859              70.8911   80.5941\n",
       "37    HCA  167.12            NA  ...       0.0693858              82.9703   80.3465\n",
       "38   ZBRA  385.34            NA  ...       0.0114366               50.297   80.2475\n",
       "39   AVGO  438.54            NA  ...        0.118026              93.2673   80.2475\n",
       "40     WY   34.48            NA  ...        0.173266              98.0198   80.0495\n",
       "41   NLSN   21.30            NA  ...        0.249887               99.802   79.0099\n",
       "42    URI  233.25            NA  ...      0.00975404              48.9109   78.5644\n",
       "43     LB   40.74            NA  ...     0.000269464              41.3861   78.4653\n",
       "44   FFIV  179.48            NA  ...       0.0676476              81.5842   78.4158\n",
       "45    PKI  144.58            NA  ...       0.0974043              89.3069   78.3168\n",
       "46    HWM   28.71            NA  ...        0.120976              94.4554   78.2178\n",
       "47   ISRG  808.00            NA  ...        0.116039              92.4752   77.8713\n",
       "48   KEYS  134.78            NA  ...        0.105205              90.6931   77.7228\n",
       "49   CPRT  128.13            NA  ...       0.0801051              84.9505   77.4257\n",
       "\n",
       "[50 rows x 12 columns]"
      ],
      "text/html": "<div>\n<style scoped>\n    .dataframe tbody tr th:only-of-type {\n        vertical-align: middle;\n    }\n\n    .dataframe tbody tr th {\n        vertical-align: top;\n    }\n\n    .dataframe thead th {\n        text-align: right;\n    }\n</style>\n<table border=\"1\" class=\"dataframe\">\n  <thead>\n    <tr style=\"text-align: right;\">\n      <th></th>\n      <th>Ticker</th>\n      <th>Price</th>\n      <th>Shares to Buy</th>\n      <th>1Y Price Return</th>\n      <th>1Y Return Percentile</th>\n      <th>6M Price Return</th>\n      <th>6M Return Percentile</th>\n      <th>3M Price Return</th>\n      <th>3M Return Percentile</th>\n      <th>1M Price Return</th>\n      <th>1M Return Percentile</th>\n      <th>HQM Score</th>\n    </tr>\n  </thead>\n  <tbody>\n    <tr>\n      <th>0</th>\n      <td>ALB</td>\n      <td>152.92</td>\n      <td>NA</td>\n      <td>1.13798</td>\n      <td>99.2079</td>\n      <td>1.05517</td>\n      <td>99.0099</td>\n      <td>0.779732</td>\n      <td>99.2079</td>\n      <td>0.119026</td>\n      <td>93.8614</td>\n      <td>97.8218</td>\n    </tr>\n    <tr>\n      <th>1</th>\n      <td>ALGN</td>\n      <td>528.62</td>\n      <td>NA</td>\n      <td>0.941433</td>\n      <td>98.6139</td>\n      <td>1.09092</td>\n      <td>99.4059</td>\n      <td>0.67935</td>\n      <td>98.6139</td>\n      <td>0.120058</td>\n      <td>94.2574</td>\n      <td>97.7228</td>\n    </tr>\n    <tr>\n      <th>2</th>\n      <td>PAYC</td>\n      <td>465.49</td>\n      <td>NA</td>\n      <td>0.779517</td>\n      <td>96.6337</td>\n      <td>0.476373</td>\n      <td>85.1485</td>\n      <td>0.633421</td>\n      <td>97.0297</td>\n      <td>0.1399</td>\n      <td>95.8416</td>\n      <td>93.6634</td>\n    </tr>\n    <tr>\n      <th>3</th>\n      <td>FCX</td>\n      <td>25.57</td>\n      <td>NA</td>\n      <td>0.932725</td>\n      <td>98.2178</td>\n      <td>1.29475</td>\n      <td>99.604</td>\n      <td>0.646991</td>\n      <td>97.2277</td>\n      <td>0.0531065</td>\n      <td>76.0396</td>\n      <td>92.7723</td>\n    </tr>\n    <tr>\n      <th>4</th>\n      <td>SIVB</td>\n      <td>390.36</td>\n      <td>NA</td>\n      <td>0.51241</td>\n      <td>92.2772</td>\n      <td>0.748922</td>\n      <td>96.2376</td>\n      <td>0.666753</td>\n      <td>98.2178</td>\n      <td>0.0613533</td>\n      <td>79.2079</td>\n      <td>91.4851</td>\n    </tr>\n    <tr>\n      <th>5</th>\n      <td>LRCX</td>\n      <td>501.32</td>\n      <td>NA</td>\n      <td>0.671611</td>\n      <td>95.0495</td>\n      <td>0.546959</td>\n      <td>90.297</td>\n      <td>0.48681</td>\n      <td>93.6634</td>\n      <td>0.0812466</td>\n      <td>85.7426</td>\n      <td>91.1881</td>\n    </tr>\n    <tr>\n      <th>6</th>\n      <td>IDXX</td>\n      <td>521.25</td>\n      <td>NA</td>\n      <td>0.898748</td>\n      <td>97.8218</td>\n      <td>0.542256</td>\n      <td>89.505</td>\n      <td>0.331301</td>\n      <td>79.802</td>\n      <td>0.117632</td>\n      <td>92.8713</td>\n      <td>90</td>\n    </tr>\n    <tr>\n      <th>7</th>\n      <td>APTV</td>\n      <td>130.78</td>\n      <td>NA</td>\n      <td>0.362535</td>\n      <td>82.5743</td>\n      <td>0.693903</td>\n      <td>94.8515</td>\n      <td>0.5024</td>\n      <td>94.2574</td>\n      <td>0.0853381</td>\n      <td>86.1386</td>\n      <td>89.4554</td>\n    </tr>\n    <tr>\n      <th>8</th>\n      <td>QRVO</td>\n      <td>170.77</td>\n      <td>NA</td>\n      <td>0.424843</td>\n      <td>87.9208</td>\n      <td>0.54952</td>\n      <td>90.6931</td>\n      <td>0.342301</td>\n      <td>81.7822</td>\n      <td>0.131249</td>\n      <td>94.8515</td>\n      <td>88.8119</td>\n    </tr>\n    <tr>\n      <th>9</th>\n      <td>TWTR</td>\n      <td>55.95</td>\n      <td>NA</td>\n      <td>0.680274</td>\n      <td>95.2475</td>\n      <td>0.727909</td>\n      <td>95.8416</td>\n      <td>0.23985</td>\n      <td>65.7426</td>\n      <td>0.170215</td>\n      <td>97.8218</td>\n      <td>88.6634</td>\n    </tr>\n    <tr>\n      <th>10</th>\n      <td>CDNS</td>\n      <td>138.00</td>\n      <td>NA</td>\n      <td>0.940793</td>\n      <td>98.4158</td>\n      <td>0.454405</td>\n      <td>81.3861</td>\n      <td>0.295288</td>\n      <td>74.6535</td>\n      <td>0.187724</td>\n      <td>98.4158</td>\n      <td>88.2178</td>\n    </tr>\n    <tr>\n      <th>11</th>\n      <td>XLNX</td>\n      <td>145.46</td>\n      <td>NA</td>\n      <td>0.468944</td>\n      <td>90.8911</td>\n      <td>0.553827</td>\n      <td>90.8911</td>\n      <td>0.422525</td>\n      <td>90.297</td>\n      <td>0.047755</td>\n      <td>73.4653</td>\n      <td>86.3861</td>\n    </tr>\n    <tr>\n      <th>12</th>\n      <td>DIS</td>\n      <td>174.38</td>\n      <td>NA</td>\n      <td>0.199387</td>\n      <td>67.3267</td>\n      <td>0.58537</td>\n      <td>92.2772</td>\n      <td>0.408541</td>\n      <td>88.7129</td>\n      <td>0.169276</td>\n      <td>97.2277</td>\n      <td>86.3861</td>\n    </tr>\n    <tr>\n      <th>13</th>\n      <td>NTAP</td>\n      <td>66.50</td>\n      <td>NA</td>\n      <td>0.0944562</td>\n      <td>52.6733</td>\n      <td>0.621745</td>\n      <td>93.2673</td>\n      <td>0.585291</td>\n      <td>96.0396</td>\n      <td>0.237722</td>\n      <td>99.4059</td>\n      <td>85.3465</td>\n    </tr>\n    <tr>\n      <th>14</th>\n      <td>MS</td>\n      <td>70.34</td>\n      <td>NA</td>\n      <td>0.395648</td>\n      <td>85.9406</td>\n      <td>0.426984</td>\n      <td>78.6139</td>\n      <td>0.477527</td>\n      <td>92.6733</td>\n      <td>0.0729012</td>\n      <td>83.7624</td>\n      <td>85.2475</td>\n    </tr>\n    <tr>\n      <th>15</th>\n      <td>MU</td>\n      <td>70.71</td>\n      <td>NA</td>\n      <td>0.286453</td>\n      <td>77.8218</td>\n      <td>0.439085</td>\n      <td>80</td>\n      <td>0.445462</td>\n      <td>91.2871</td>\n      <td>0.113472</td>\n      <td>91.6832</td>\n      <td>85.198</td>\n    </tr>\n    <tr>\n      <th>16</th>\n      <td>DVA</td>\n      <td>117.48</td>\n      <td>NA</td>\n      <td>0.540488</td>\n      <td>92.6733</td>\n      <td>0.495052</td>\n      <td>86.1386</td>\n      <td>0.38435</td>\n      <td>86.5347</td>\n      <td>0.0526547</td>\n      <td>75.4455</td>\n      <td>85.198</td>\n    </tr>\n    <tr>\n      <th>17</th>\n      <td>IPGP</td>\n      <td>222.07</td>\n      <td>NA</td>\n      <td>0.541838</td>\n      <td>92.8713</td>\n      <td>0.411236</td>\n      <td>76.4356</td>\n      <td>0.341396</td>\n      <td>81.3861</td>\n      <td>0.0964095</td>\n      <td>89.1089</td>\n      <td>84.9505</td>\n    </tr>\n    <tr>\n      <th>18</th>\n      <td>PYPL</td>\n      <td>248.77</td>\n      <td>NA</td>\n      <td>1.2211</td>\n      <td>99.604</td>\n      <td>0.402568</td>\n      <td>75.0495</td>\n      <td>0.27912</td>\n      <td>72.0792</td>\n      <td>0.114438</td>\n      <td>92.2772</td>\n      <td>84.7525</td>\n    </tr>\n    <tr>\n      <th>19</th>\n      <td>ALXN</td>\n      <td>154.60</td>\n      <td>NA</td>\n      <td>0.39714</td>\n      <td>86.3366</td>\n      <td>0.350742</td>\n      <td>68.5149</td>\n      <td>0.34795</td>\n      <td>82.5743</td>\n      <td>0.243637</td>\n      <td>99.604</td>\n      <td>84.2574</td>\n    </tr>\n    <tr>\n      <th>20</th>\n      <td>DFS</td>\n      <td>91.98</td>\n      <td>NA</td>\n      <td>0.0702546</td>\n      <td>49.1089</td>\n      <td>0.743449</td>\n      <td>96.0396</td>\n      <td>0.664216</td>\n      <td>97.8218</td>\n      <td>0.117845</td>\n      <td>93.0693</td>\n      <td>84.0099</td>\n    </tr>\n    <tr>\n      <th>21</th>\n      <td>PWR</td>\n      <td>71.60</td>\n      <td>NA</td>\n      <td>0.746891</td>\n      <td>95.8416</td>\n      <td>0.84942</td>\n      <td>98.0198</td>\n      <td>0.383693</td>\n      <td>86.3366</td>\n      <td>0.0179483</td>\n      <td>55.6436</td>\n      <td>83.9604</td>\n    </tr>\n    <tr>\n      <th>22</th>\n      <td>QCOM</td>\n      <td>152.43</td>\n      <td>NA</td>\n      <td>0.752542</td>\n      <td>96.0396</td>\n      <td>0.690397</td>\n      <td>94.4554</td>\n      <td>0.308413</td>\n      <td>76.0396</td>\n      <td>0.0384076</td>\n      <td>68.9109</td>\n      <td>83.8614</td>\n    </tr>\n    <tr>\n      <th>23</th>\n      <td>TPR</td>\n      <td>31.35</td>\n      <td>NA</td>\n      <td>0.176485</td>\n      <td>65.5446</td>\n      <td>1.47427</td>\n      <td>99.802</td>\n      <td>0.885723</td>\n      <td>99.604</td>\n      <td>0.0403158</td>\n      <td>70.297</td>\n      <td>83.8119</td>\n    </tr>\n    <tr>\n      <th>24</th>\n      <td>TTWO</td>\n      <td>203.30</td>\n      <td>NA</td>\n      <td>0.648728</td>\n      <td>94.6535</td>\n      <td>0.452744</td>\n      <td>81.1881</td>\n      <td>0.227381</td>\n      <td>62.3762</td>\n      <td>0.169246</td>\n      <td>97.0297</td>\n      <td>83.8119</td>\n    </tr>\n    <tr>\n      <th>25</th>\n      <td>MXIM</td>\n      <td>88.84</td>\n      <td>NA</td>\n      <td>0.463436</td>\n      <td>90.495</td>\n      <td>0.469112</td>\n      <td>83.5644</td>\n      <td>0.329951</td>\n      <td>79.604</td>\n      <td>0.0668504</td>\n      <td>81.3861</td>\n      <td>83.7624</td>\n    </tr>\n    <tr>\n      <th>26</th>\n      <td>AMAT</td>\n      <td>87.65</td>\n      <td>NA</td>\n      <td>0.409266</td>\n      <td>86.7327</td>\n      <td>0.436969</td>\n      <td>79.604</td>\n      <td>0.474773</td>\n      <td>92.0792</td>\n      <td>0.0535757</td>\n      <td>76.2376</td>\n      <td>83.6634</td>\n    </tr>\n    <tr>\n      <th>27</th>\n      <td>AES</td>\n      <td>23.45</td>\n      <td>NA</td>\n      <td>0.22753</td>\n      <td>70.495</td>\n      <td>0.714626</td>\n      <td>95.6436</td>\n      <td>0.306411</td>\n      <td>75.8416</td>\n      <td>0.113753</td>\n      <td>91.8812</td>\n      <td>83.4653</td>\n    </tr>\n    <tr>\n      <th>28</th>\n      <td>ANET</td>\n      <td>301.14</td>\n      <td>NA</td>\n      <td>0.425288</td>\n      <td>88.3168</td>\n      <td>0.370553</td>\n      <td>70.8911</td>\n      <td>0.447661</td>\n      <td>91.4851</td>\n      <td>0.0687894</td>\n      <td>81.9802</td>\n      <td>83.1683</td>\n    </tr>\n    <tr>\n      <th>29</th>\n      <td>DE</td>\n      <td>271.58</td>\n      <td>NA</td>\n      <td>0.581485</td>\n      <td>93.8614</td>\n      <td>0.778382</td>\n      <td>97.0297</td>\n      <td>0.239013</td>\n      <td>65.1485</td>\n      <td>0.0508073</td>\n      <td>75.2475</td>\n      <td>82.8218</td>\n    </tr>\n    <tr>\n      <th>30</th>\n      <td>SNPS</td>\n      <td>259.34</td>\n      <td>NA</td>\n      <td>0.884135</td>\n      <td>97.6238</td>\n      <td>0.358849</td>\n      <td>69.505</td>\n      <td>0.231726</td>\n      <td>63.9604</td>\n      <td>0.189326</td>\n      <td>98.6139</td>\n      <td>82.4257</td>\n    </tr>\n    <tr>\n      <th>31</th>\n      <td>HPQ</td>\n      <td>24.52</td>\n      <td>NA</td>\n      <td>0.218859</td>\n      <td>69.505</td>\n      <td>0.509141</td>\n      <td>87.1287</td>\n      <td>0.346805</td>\n      <td>82.3762</td>\n      <td>0.103481</td>\n      <td>90.297</td>\n      <td>82.3267</td>\n    </tr>\n    <tr>\n      <th>32</th>\n      <td>ADSK</td>\n      <td>303.19</td>\n      <td>NA</td>\n      <td>0.639643</td>\n      <td>94.4554</td>\n      <td>0.298687</td>\n      <td>60.5941</td>\n      <td>0.332862</td>\n      <td>80.5941</td>\n      <td>0.114191</td>\n      <td>92.0792</td>\n      <td>81.9307</td>\n    </tr>\n    <tr>\n      <th>33</th>\n      <td>CTVA</td>\n      <td>40.90</td>\n      <td>NA</td>\n      <td>0.415359</td>\n      <td>86.9307</td>\n      <td>0.543075</td>\n      <td>89.703</td>\n      <td>0.414166</td>\n      <td>89.901</td>\n      <td>0.0245622</td>\n      <td>60.396</td>\n      <td>81.7327</td>\n    </tr>\n    <tr>\n      <th>34</th>\n      <td>AAPL</td>\n      <td>133.22</td>\n      <td>NA</td>\n      <td>0.880961</td>\n      <td>97.4257</td>\n      <td>0.45663</td>\n      <td>81.7822</td>\n      <td>0.178799</td>\n      <td>50.8911</td>\n      <td>0.137749</td>\n      <td>95.4455</td>\n      <td>81.3861</td>\n    </tr>\n    <tr>\n      <th>35</th>\n      <td>AMD</td>\n      <td>92.20</td>\n      <td>NA</td>\n      <td>0.975124</td>\n      <td>98.8119</td>\n      <td>0.778335</td>\n      <td>96.8317</td>\n      <td>0.176946</td>\n      <td>50.297</td>\n      <td>0.0602538</td>\n      <td>78.6139</td>\n      <td>81.1386</td>\n    </tr>\n    <tr>\n      <th>36</th>\n      <td>KLAC</td>\n      <td>262.07</td>\n      <td>NA</td>\n      <td>0.483832</td>\n      <td>91.6832</td>\n      <td>0.374064</td>\n      <td>71.8812</td>\n      <td>0.397178</td>\n      <td>87.9208</td>\n      <td>0.0416859</td>\n      <td>70.8911</td>\n      <td>80.5941</td>\n    </tr>\n    <tr>\n      <th>37</th>\n      <td>HCA</td>\n      <td>167.12</td>\n      <td>NA</td>\n      <td>0.117657</td>\n      <td>56.4356</td>\n      <td>0.786468</td>\n      <td>97.2277</td>\n      <td>0.366708</td>\n      <td>84.7525</td>\n      <td>0.0693858</td>\n      <td>82.9703</td>\n      <td>80.3465</td>\n    </tr>\n    <tr>\n      <th>38</th>\n      <td>ZBRA</td>\n      <td>385.34</td>\n      <td>NA</td>\n      <td>0.485337</td>\n      <td>91.8812</td>\n      <td>0.502401</td>\n      <td>86.5347</td>\n      <td>0.475399</td>\n      <td>92.2772</td>\n      <td>0.0114366</td>\n      <td>50.297</td>\n      <td>80.2475</td>\n    </tr>\n    <tr>\n      <th>39</th>\n      <td>AVGO</td>\n      <td>438.54</td>\n      <td>NA</td>\n      <td>0.417887</td>\n      <td>87.3267</td>\n      <td>0.431701</td>\n      <td>79.2079</td>\n      <td>0.22383</td>\n      <td>61.1881</td>\n      <td>0.118026</td>\n      <td>93.2673</td>\n      <td>80.2475</td>\n    </tr>\n    <tr>\n      <th>40</th>\n      <td>WY</td>\n      <td>34.48</td>\n      <td>NA</td>\n      <td>0.162037</td>\n      <td>62.9703</td>\n      <td>0.566792</td>\n      <td>91.4851</td>\n      <td>0.251351</td>\n      <td>67.7228</td>\n      <td>0.173266</td>\n      <td>98.0198</td>\n      <td>80.0495</td>\n    </tr>\n    <tr>\n      <th>41</th>\n      <td>NLSN</td>\n      <td>21.30</td>\n      <td>NA</td>\n      <td>0.0258353</td>\n      <td>42.5743</td>\n      <td>0.446292</td>\n      <td>80.396</td>\n      <td>0.479857</td>\n      <td>93.2673</td>\n      <td>0.249887</td>\n      <td>99.802</td>\n      <td>79.0099</td>\n    </tr>\n    <tr>\n      <th>42</th>\n      <td>URI</td>\n      <td>233.25</td>\n      <td>NA</td>\n      <td>0.387874</td>\n      <td>84.3564</td>\n      <td>0.639428</td>\n      <td>93.6634</td>\n      <td>0.391701</td>\n      <td>87.3267</td>\n      <td>0.00975404</td>\n      <td>48.9109</td>\n      <td>78.5644</td>\n    </tr>\n    <tr>\n      <th>43</th>\n      <td>LB</td>\n      <td>40.74</td>\n      <td>NA</td>\n      <td>1.18781</td>\n      <td>99.4059</td>\n      <td>1.77838</td>\n      <td>100</td>\n      <td>0.284961</td>\n      <td>73.0693</td>\n      <td>0.000269464</td>\n      <td>41.3861</td>\n      <td>78.4653</td>\n    </tr>\n    <tr>\n      <th>44</th>\n      <td>FFIV</td>\n      <td>179.48</td>\n      <td>NA</td>\n      <td>0.269932</td>\n      <td>76.2376</td>\n      <td>0.312741</td>\n      <td>63.9604</td>\n      <td>0.469121</td>\n      <td>91.8812</td>\n      <td>0.0676476</td>\n      <td>81.5842</td>\n      <td>78.4158</td>\n    </tr>\n    <tr>\n      <th>45</th>\n      <td>PKI</td>\n      <td>144.58</td>\n      <td>NA</td>\n      <td>0.44664</td>\n      <td>89.505</td>\n      <td>0.480536</td>\n      <td>85.3465</td>\n      <td>0.171452</td>\n      <td>49.1089</td>\n      <td>0.0974043</td>\n      <td>89.3069</td>\n      <td>78.3168</td>\n    </tr>\n    <tr>\n      <th>46</th>\n      <td>HWM</td>\n      <td>28.71</td>\n      <td>NA</td>\n      <td>-0.129882</td>\n      <td>22.3762</td>\n      <td>0.806201</td>\n      <td>97.6238</td>\n      <td>0.671929</td>\n      <td>98.4158</td>\n      <td>0.120976</td>\n      <td>94.4554</td>\n      <td>78.2178</td>\n    </tr>\n    <tr>\n      <th>47</th>\n      <td>ISRG</td>\n      <td>808.00</td>\n      <td>NA</td>\n      <td>0.355751</td>\n      <td>82.1782</td>\n      <td>0.459234</td>\n      <td>82.1782</td>\n      <td>0.198309</td>\n      <td>54.6535</td>\n      <td>0.116039</td>\n      <td>92.4752</td>\n      <td>77.8713</td>\n    </tr>\n    <tr>\n      <th>48</th>\n      <td>KEYS</td>\n      <td>134.78</td>\n      <td>NA</td>\n      <td>0.279989</td>\n      <td>77.0297</td>\n      <td>0.304926</td>\n      <td>62.1782</td>\n      <td>0.336351</td>\n      <td>80.9901</td>\n      <td>0.105205</td>\n      <td>90.6931</td>\n      <td>77.7228</td>\n    </tr>\n    <tr>\n      <th>49</th>\n      <td>CPRT</td>\n      <td>128.13</td>\n      <td>NA</td>\n      <td>0.378458</td>\n      <td>83.1683</td>\n      <td>0.535034</td>\n      <td>88.7129</td>\n      <td>0.190914</td>\n      <td>52.8713</td>\n      <td>0.0801051</td>\n      <td>84.9505</td>\n      <td>77.4257</td>\n    </tr>\n  </tbody>\n</table>\n</div>"
     },
     "metadata": {},
     "execution_count": 125
    }
   ],
   "source": [
    "hqm_df.sort_values('HQM Score', ascending=False, inplace=True)\n",
    "\n",
    "hqm_df = hqm_df[:50]\n",
    "hqm_df.reset_index(level=0, inplace=True, drop=True)\n",
    "\n",
    "hqm_df"
   ]
  },
  {
   "cell_type": "markdown",
   "metadata": {},
   "source": [
    "## Calculating the Number of Shares to Buy\n",
    "\n",
    "We'll use the `portfolio_input` function that we created earlier to accept our portfolio size. Then we will use similar logic in a `for` loop to calculate the number of shares to buy for each stock in our investment universe."
   ]
  },
  {
   "cell_type": "code",
   "execution_count": 126,
   "metadata": {},
   "outputs": [],
   "source": [
    "portfolio_input()"
   ]
  },
  {
   "cell_type": "code",
   "execution_count": 127,
   "metadata": {},
   "outputs": [
    {
     "output_type": "execute_result",
     "data": {
      "text/plain": [
       "   Ticker   Price Shares to Buy  ... 1M Price Return 1M Return Percentile HQM Score\n",
       "0     ALB  152.92           130  ...        0.119026              93.8614   97.8218\n",
       "1    ALGN  528.62            37  ...        0.120058              94.2574   97.7228\n",
       "2    PAYC  465.49            42  ...          0.1399              95.8416   93.6634\n",
       "3     FCX   25.57           782  ...       0.0531065              76.0396   92.7723\n",
       "4    SIVB  390.36            51  ...       0.0613533              79.2079   91.4851\n",
       "5    LRCX  501.32            39  ...       0.0812466              85.7426   91.1881\n",
       "6    IDXX  521.25            38  ...        0.117632              92.8713        90\n",
       "7    APTV  130.78           152  ...       0.0853381              86.1386   89.4554\n",
       "8    QRVO  170.77           117  ...        0.131249              94.8515   88.8119\n",
       "9    TWTR   55.95           357  ...        0.170215              97.8218   88.6634\n",
       "10   CDNS  138.00           144  ...        0.187724              98.4158   88.2178\n",
       "11   XLNX  145.46           137  ...        0.047755              73.4653   86.3861\n",
       "12    DIS  174.38           114  ...        0.169276              97.2277   86.3861\n",
       "13   NTAP   66.50           300  ...        0.237722              99.4059   85.3465\n",
       "14     MS   70.34           284  ...       0.0729012              83.7624   85.2475\n",
       "15     MU   70.71           282  ...        0.113472              91.6832    85.198\n",
       "16    DVA  117.48           170  ...       0.0526547              75.4455    85.198\n",
       "17   IPGP  222.07            90  ...       0.0964095              89.1089   84.9505\n",
       "18   PYPL  248.77            80  ...        0.114438              92.2772   84.7525\n",
       "19   ALXN  154.60           129  ...        0.243637               99.604   84.2574\n",
       "20    DFS   91.98           217  ...        0.117845              93.0693   84.0099\n",
       "21    PWR   71.60           279  ...       0.0179483              55.6436   83.9604\n",
       "22   QCOM  152.43           131  ...       0.0384076              68.9109   83.8614\n",
       "23    TPR   31.35           637  ...       0.0403158               70.297   83.8119\n",
       "24   TTWO  203.30            98  ...        0.169246              97.0297   83.8119\n",
       "25   MXIM   88.84           225  ...       0.0668504              81.3861   83.7624\n",
       "26   AMAT   87.65           228  ...       0.0535757              76.2376   83.6634\n",
       "27    AES   23.45           852  ...        0.113753              91.8812   83.4653\n",
       "28   ANET  301.14            66  ...       0.0687894              81.9802   83.1683\n",
       "29     DE  271.58            73  ...       0.0508073              75.2475   82.8218\n",
       "30   SNPS  259.34            77  ...        0.189326              98.6139   82.4257\n",
       "31    HPQ   24.52           815  ...        0.103481               90.297   82.3267\n",
       "32   ADSK  303.19            65  ...        0.114191              92.0792   81.9307\n",
       "33   CTVA   40.90           488  ...       0.0245622               60.396   81.7327\n",
       "34   AAPL  133.22           150  ...        0.137749              95.4455   81.3861\n",
       "35    AMD   92.20           216  ...       0.0602538              78.6139   81.1386\n",
       "36   KLAC  262.07            76  ...       0.0416859              70.8911   80.5941\n",
       "37    HCA  167.12           119  ...       0.0693858              82.9703   80.3465\n",
       "38   ZBRA  385.34            51  ...       0.0114366               50.297   80.2475\n",
       "39   AVGO  438.54            45  ...        0.118026              93.2673   80.2475\n",
       "40     WY   34.48           580  ...        0.173266              98.0198   80.0495\n",
       "41   NLSN   21.30           938  ...        0.249887               99.802   79.0099\n",
       "42    URI  233.25            85  ...      0.00975404              48.9109   78.5644\n",
       "43     LB   40.74           490  ...     0.000269464              41.3861   78.4653\n",
       "44   FFIV  179.48           111  ...       0.0676476              81.5842   78.4158\n",
       "45    PKI  144.58           138  ...       0.0974043              89.3069   78.3168\n",
       "46    HWM   28.71           696  ...        0.120976              94.4554   78.2178\n",
       "47   ISRG  808.00            24  ...        0.116039              92.4752   77.8713\n",
       "48   KEYS  134.78           148  ...        0.105205              90.6931   77.7228\n",
       "49   CPRT  128.13           156  ...       0.0801051              84.9505   77.4257\n",
       "\n",
       "[50 rows x 12 columns]"
      ],
      "text/html": "<div>\n<style scoped>\n    .dataframe tbody tr th:only-of-type {\n        vertical-align: middle;\n    }\n\n    .dataframe tbody tr th {\n        vertical-align: top;\n    }\n\n    .dataframe thead th {\n        text-align: right;\n    }\n</style>\n<table border=\"1\" class=\"dataframe\">\n  <thead>\n    <tr style=\"text-align: right;\">\n      <th></th>\n      <th>Ticker</th>\n      <th>Price</th>\n      <th>Shares to Buy</th>\n      <th>1Y Price Return</th>\n      <th>1Y Return Percentile</th>\n      <th>6M Price Return</th>\n      <th>6M Return Percentile</th>\n      <th>3M Price Return</th>\n      <th>3M Return Percentile</th>\n      <th>1M Price Return</th>\n      <th>1M Return Percentile</th>\n      <th>HQM Score</th>\n    </tr>\n  </thead>\n  <tbody>\n    <tr>\n      <th>0</th>\n      <td>ALB</td>\n      <td>152.92</td>\n      <td>130</td>\n      <td>1.13798</td>\n      <td>99.2079</td>\n      <td>1.05517</td>\n      <td>99.0099</td>\n      <td>0.779732</td>\n      <td>99.2079</td>\n      <td>0.119026</td>\n      <td>93.8614</td>\n      <td>97.8218</td>\n    </tr>\n    <tr>\n      <th>1</th>\n      <td>ALGN</td>\n      <td>528.62</td>\n      <td>37</td>\n      <td>0.941433</td>\n      <td>98.6139</td>\n      <td>1.09092</td>\n      <td>99.4059</td>\n      <td>0.67935</td>\n      <td>98.6139</td>\n      <td>0.120058</td>\n      <td>94.2574</td>\n      <td>97.7228</td>\n    </tr>\n    <tr>\n      <th>2</th>\n      <td>PAYC</td>\n      <td>465.49</td>\n      <td>42</td>\n      <td>0.779517</td>\n      <td>96.6337</td>\n      <td>0.476373</td>\n      <td>85.1485</td>\n      <td>0.633421</td>\n      <td>97.0297</td>\n      <td>0.1399</td>\n      <td>95.8416</td>\n      <td>93.6634</td>\n    </tr>\n    <tr>\n      <th>3</th>\n      <td>FCX</td>\n      <td>25.57</td>\n      <td>782</td>\n      <td>0.932725</td>\n      <td>98.2178</td>\n      <td>1.29475</td>\n      <td>99.604</td>\n      <td>0.646991</td>\n      <td>97.2277</td>\n      <td>0.0531065</td>\n      <td>76.0396</td>\n      <td>92.7723</td>\n    </tr>\n    <tr>\n      <th>4</th>\n      <td>SIVB</td>\n      <td>390.36</td>\n      <td>51</td>\n      <td>0.51241</td>\n      <td>92.2772</td>\n      <td>0.748922</td>\n      <td>96.2376</td>\n      <td>0.666753</td>\n      <td>98.2178</td>\n      <td>0.0613533</td>\n      <td>79.2079</td>\n      <td>91.4851</td>\n    </tr>\n    <tr>\n      <th>5</th>\n      <td>LRCX</td>\n      <td>501.32</td>\n      <td>39</td>\n      <td>0.671611</td>\n      <td>95.0495</td>\n      <td>0.546959</td>\n      <td>90.297</td>\n      <td>0.48681</td>\n      <td>93.6634</td>\n      <td>0.0812466</td>\n      <td>85.7426</td>\n      <td>91.1881</td>\n    </tr>\n    <tr>\n      <th>6</th>\n      <td>IDXX</td>\n      <td>521.25</td>\n      <td>38</td>\n      <td>0.898748</td>\n      <td>97.8218</td>\n      <td>0.542256</td>\n      <td>89.505</td>\n      <td>0.331301</td>\n      <td>79.802</td>\n      <td>0.117632</td>\n      <td>92.8713</td>\n      <td>90</td>\n    </tr>\n    <tr>\n      <th>7</th>\n      <td>APTV</td>\n      <td>130.78</td>\n      <td>152</td>\n      <td>0.362535</td>\n      <td>82.5743</td>\n      <td>0.693903</td>\n      <td>94.8515</td>\n      <td>0.5024</td>\n      <td>94.2574</td>\n      <td>0.0853381</td>\n      <td>86.1386</td>\n      <td>89.4554</td>\n    </tr>\n    <tr>\n      <th>8</th>\n      <td>QRVO</td>\n      <td>170.77</td>\n      <td>117</td>\n      <td>0.424843</td>\n      <td>87.9208</td>\n      <td>0.54952</td>\n      <td>90.6931</td>\n      <td>0.342301</td>\n      <td>81.7822</td>\n      <td>0.131249</td>\n      <td>94.8515</td>\n      <td>88.8119</td>\n    </tr>\n    <tr>\n      <th>9</th>\n      <td>TWTR</td>\n      <td>55.95</td>\n      <td>357</td>\n      <td>0.680274</td>\n      <td>95.2475</td>\n      <td>0.727909</td>\n      <td>95.8416</td>\n      <td>0.23985</td>\n      <td>65.7426</td>\n      <td>0.170215</td>\n      <td>97.8218</td>\n      <td>88.6634</td>\n    </tr>\n    <tr>\n      <th>10</th>\n      <td>CDNS</td>\n      <td>138.00</td>\n      <td>144</td>\n      <td>0.940793</td>\n      <td>98.4158</td>\n      <td>0.454405</td>\n      <td>81.3861</td>\n      <td>0.295288</td>\n      <td>74.6535</td>\n      <td>0.187724</td>\n      <td>98.4158</td>\n      <td>88.2178</td>\n    </tr>\n    <tr>\n      <th>11</th>\n      <td>XLNX</td>\n      <td>145.46</td>\n      <td>137</td>\n      <td>0.468944</td>\n      <td>90.8911</td>\n      <td>0.553827</td>\n      <td>90.8911</td>\n      <td>0.422525</td>\n      <td>90.297</td>\n      <td>0.047755</td>\n      <td>73.4653</td>\n      <td>86.3861</td>\n    </tr>\n    <tr>\n      <th>12</th>\n      <td>DIS</td>\n      <td>174.38</td>\n      <td>114</td>\n      <td>0.199387</td>\n      <td>67.3267</td>\n      <td>0.58537</td>\n      <td>92.2772</td>\n      <td>0.408541</td>\n      <td>88.7129</td>\n      <td>0.169276</td>\n      <td>97.2277</td>\n      <td>86.3861</td>\n    </tr>\n    <tr>\n      <th>13</th>\n      <td>NTAP</td>\n      <td>66.50</td>\n      <td>300</td>\n      <td>0.0944562</td>\n      <td>52.6733</td>\n      <td>0.621745</td>\n      <td>93.2673</td>\n      <td>0.585291</td>\n      <td>96.0396</td>\n      <td>0.237722</td>\n      <td>99.4059</td>\n      <td>85.3465</td>\n    </tr>\n    <tr>\n      <th>14</th>\n      <td>MS</td>\n      <td>70.34</td>\n      <td>284</td>\n      <td>0.395648</td>\n      <td>85.9406</td>\n      <td>0.426984</td>\n      <td>78.6139</td>\n      <td>0.477527</td>\n      <td>92.6733</td>\n      <td>0.0729012</td>\n      <td>83.7624</td>\n      <td>85.2475</td>\n    </tr>\n    <tr>\n      <th>15</th>\n      <td>MU</td>\n      <td>70.71</td>\n      <td>282</td>\n      <td>0.286453</td>\n      <td>77.8218</td>\n      <td>0.439085</td>\n      <td>80</td>\n      <td>0.445462</td>\n      <td>91.2871</td>\n      <td>0.113472</td>\n      <td>91.6832</td>\n      <td>85.198</td>\n    </tr>\n    <tr>\n      <th>16</th>\n      <td>DVA</td>\n      <td>117.48</td>\n      <td>170</td>\n      <td>0.540488</td>\n      <td>92.6733</td>\n      <td>0.495052</td>\n      <td>86.1386</td>\n      <td>0.38435</td>\n      <td>86.5347</td>\n      <td>0.0526547</td>\n      <td>75.4455</td>\n      <td>85.198</td>\n    </tr>\n    <tr>\n      <th>17</th>\n      <td>IPGP</td>\n      <td>222.07</td>\n      <td>90</td>\n      <td>0.541838</td>\n      <td>92.8713</td>\n      <td>0.411236</td>\n      <td>76.4356</td>\n      <td>0.341396</td>\n      <td>81.3861</td>\n      <td>0.0964095</td>\n      <td>89.1089</td>\n      <td>84.9505</td>\n    </tr>\n    <tr>\n      <th>18</th>\n      <td>PYPL</td>\n      <td>248.77</td>\n      <td>80</td>\n      <td>1.2211</td>\n      <td>99.604</td>\n      <td>0.402568</td>\n      <td>75.0495</td>\n      <td>0.27912</td>\n      <td>72.0792</td>\n      <td>0.114438</td>\n      <td>92.2772</td>\n      <td>84.7525</td>\n    </tr>\n    <tr>\n      <th>19</th>\n      <td>ALXN</td>\n      <td>154.60</td>\n      <td>129</td>\n      <td>0.39714</td>\n      <td>86.3366</td>\n      <td>0.350742</td>\n      <td>68.5149</td>\n      <td>0.34795</td>\n      <td>82.5743</td>\n      <td>0.243637</td>\n      <td>99.604</td>\n      <td>84.2574</td>\n    </tr>\n    <tr>\n      <th>20</th>\n      <td>DFS</td>\n      <td>91.98</td>\n      <td>217</td>\n      <td>0.0702546</td>\n      <td>49.1089</td>\n      <td>0.743449</td>\n      <td>96.0396</td>\n      <td>0.664216</td>\n      <td>97.8218</td>\n      <td>0.117845</td>\n      <td>93.0693</td>\n      <td>84.0099</td>\n    </tr>\n    <tr>\n      <th>21</th>\n      <td>PWR</td>\n      <td>71.60</td>\n      <td>279</td>\n      <td>0.746891</td>\n      <td>95.8416</td>\n      <td>0.84942</td>\n      <td>98.0198</td>\n      <td>0.383693</td>\n      <td>86.3366</td>\n      <td>0.0179483</td>\n      <td>55.6436</td>\n      <td>83.9604</td>\n    </tr>\n    <tr>\n      <th>22</th>\n      <td>QCOM</td>\n      <td>152.43</td>\n      <td>131</td>\n      <td>0.752542</td>\n      <td>96.0396</td>\n      <td>0.690397</td>\n      <td>94.4554</td>\n      <td>0.308413</td>\n      <td>76.0396</td>\n      <td>0.0384076</td>\n      <td>68.9109</td>\n      <td>83.8614</td>\n    </tr>\n    <tr>\n      <th>23</th>\n      <td>TPR</td>\n      <td>31.35</td>\n      <td>637</td>\n      <td>0.176485</td>\n      <td>65.5446</td>\n      <td>1.47427</td>\n      <td>99.802</td>\n      <td>0.885723</td>\n      <td>99.604</td>\n      <td>0.0403158</td>\n      <td>70.297</td>\n      <td>83.8119</td>\n    </tr>\n    <tr>\n      <th>24</th>\n      <td>TTWO</td>\n      <td>203.30</td>\n      <td>98</td>\n      <td>0.648728</td>\n      <td>94.6535</td>\n      <td>0.452744</td>\n      <td>81.1881</td>\n      <td>0.227381</td>\n      <td>62.3762</td>\n      <td>0.169246</td>\n      <td>97.0297</td>\n      <td>83.8119</td>\n    </tr>\n    <tr>\n      <th>25</th>\n      <td>MXIM</td>\n      <td>88.84</td>\n      <td>225</td>\n      <td>0.463436</td>\n      <td>90.495</td>\n      <td>0.469112</td>\n      <td>83.5644</td>\n      <td>0.329951</td>\n      <td>79.604</td>\n      <td>0.0668504</td>\n      <td>81.3861</td>\n      <td>83.7624</td>\n    </tr>\n    <tr>\n      <th>26</th>\n      <td>AMAT</td>\n      <td>87.65</td>\n      <td>228</td>\n      <td>0.409266</td>\n      <td>86.7327</td>\n      <td>0.436969</td>\n      <td>79.604</td>\n      <td>0.474773</td>\n      <td>92.0792</td>\n      <td>0.0535757</td>\n      <td>76.2376</td>\n      <td>83.6634</td>\n    </tr>\n    <tr>\n      <th>27</th>\n      <td>AES</td>\n      <td>23.45</td>\n      <td>852</td>\n      <td>0.22753</td>\n      <td>70.495</td>\n      <td>0.714626</td>\n      <td>95.6436</td>\n      <td>0.306411</td>\n      <td>75.8416</td>\n      <td>0.113753</td>\n      <td>91.8812</td>\n      <td>83.4653</td>\n    </tr>\n    <tr>\n      <th>28</th>\n      <td>ANET</td>\n      <td>301.14</td>\n      <td>66</td>\n      <td>0.425288</td>\n      <td>88.3168</td>\n      <td>0.370553</td>\n      <td>70.8911</td>\n      <td>0.447661</td>\n      <td>91.4851</td>\n      <td>0.0687894</td>\n      <td>81.9802</td>\n      <td>83.1683</td>\n    </tr>\n    <tr>\n      <th>29</th>\n      <td>DE</td>\n      <td>271.58</td>\n      <td>73</td>\n      <td>0.581485</td>\n      <td>93.8614</td>\n      <td>0.778382</td>\n      <td>97.0297</td>\n      <td>0.239013</td>\n      <td>65.1485</td>\n      <td>0.0508073</td>\n      <td>75.2475</td>\n      <td>82.8218</td>\n    </tr>\n    <tr>\n      <th>30</th>\n      <td>SNPS</td>\n      <td>259.34</td>\n      <td>77</td>\n      <td>0.884135</td>\n      <td>97.6238</td>\n      <td>0.358849</td>\n      <td>69.505</td>\n      <td>0.231726</td>\n      <td>63.9604</td>\n      <td>0.189326</td>\n      <td>98.6139</td>\n      <td>82.4257</td>\n    </tr>\n    <tr>\n      <th>31</th>\n      <td>HPQ</td>\n      <td>24.52</td>\n      <td>815</td>\n      <td>0.218859</td>\n      <td>69.505</td>\n      <td>0.509141</td>\n      <td>87.1287</td>\n      <td>0.346805</td>\n      <td>82.3762</td>\n      <td>0.103481</td>\n      <td>90.297</td>\n      <td>82.3267</td>\n    </tr>\n    <tr>\n      <th>32</th>\n      <td>ADSK</td>\n      <td>303.19</td>\n      <td>65</td>\n      <td>0.639643</td>\n      <td>94.4554</td>\n      <td>0.298687</td>\n      <td>60.5941</td>\n      <td>0.332862</td>\n      <td>80.5941</td>\n      <td>0.114191</td>\n      <td>92.0792</td>\n      <td>81.9307</td>\n    </tr>\n    <tr>\n      <th>33</th>\n      <td>CTVA</td>\n      <td>40.90</td>\n      <td>488</td>\n      <td>0.415359</td>\n      <td>86.9307</td>\n      <td>0.543075</td>\n      <td>89.703</td>\n      <td>0.414166</td>\n      <td>89.901</td>\n      <td>0.0245622</td>\n      <td>60.396</td>\n      <td>81.7327</td>\n    </tr>\n    <tr>\n      <th>34</th>\n      <td>AAPL</td>\n      <td>133.22</td>\n      <td>150</td>\n      <td>0.880961</td>\n      <td>97.4257</td>\n      <td>0.45663</td>\n      <td>81.7822</td>\n      <td>0.178799</td>\n      <td>50.8911</td>\n      <td>0.137749</td>\n      <td>95.4455</td>\n      <td>81.3861</td>\n    </tr>\n    <tr>\n      <th>35</th>\n      <td>AMD</td>\n      <td>92.20</td>\n      <td>216</td>\n      <td>0.975124</td>\n      <td>98.8119</td>\n      <td>0.778335</td>\n      <td>96.8317</td>\n      <td>0.176946</td>\n      <td>50.297</td>\n      <td>0.0602538</td>\n      <td>78.6139</td>\n      <td>81.1386</td>\n    </tr>\n    <tr>\n      <th>36</th>\n      <td>KLAC</td>\n      <td>262.07</td>\n      <td>76</td>\n      <td>0.483832</td>\n      <td>91.6832</td>\n      <td>0.374064</td>\n      <td>71.8812</td>\n      <td>0.397178</td>\n      <td>87.9208</td>\n      <td>0.0416859</td>\n      <td>70.8911</td>\n      <td>80.5941</td>\n    </tr>\n    <tr>\n      <th>37</th>\n      <td>HCA</td>\n      <td>167.12</td>\n      <td>119</td>\n      <td>0.117657</td>\n      <td>56.4356</td>\n      <td>0.786468</td>\n      <td>97.2277</td>\n      <td>0.366708</td>\n      <td>84.7525</td>\n      <td>0.0693858</td>\n      <td>82.9703</td>\n      <td>80.3465</td>\n    </tr>\n    <tr>\n      <th>38</th>\n      <td>ZBRA</td>\n      <td>385.34</td>\n      <td>51</td>\n      <td>0.485337</td>\n      <td>91.8812</td>\n      <td>0.502401</td>\n      <td>86.5347</td>\n      <td>0.475399</td>\n      <td>92.2772</td>\n      <td>0.0114366</td>\n      <td>50.297</td>\n      <td>80.2475</td>\n    </tr>\n    <tr>\n      <th>39</th>\n      <td>AVGO</td>\n      <td>438.54</td>\n      <td>45</td>\n      <td>0.417887</td>\n      <td>87.3267</td>\n      <td>0.431701</td>\n      <td>79.2079</td>\n      <td>0.22383</td>\n      <td>61.1881</td>\n      <td>0.118026</td>\n      <td>93.2673</td>\n      <td>80.2475</td>\n    </tr>\n    <tr>\n      <th>40</th>\n      <td>WY</td>\n      <td>34.48</td>\n      <td>580</td>\n      <td>0.162037</td>\n      <td>62.9703</td>\n      <td>0.566792</td>\n      <td>91.4851</td>\n      <td>0.251351</td>\n      <td>67.7228</td>\n      <td>0.173266</td>\n      <td>98.0198</td>\n      <td>80.0495</td>\n    </tr>\n    <tr>\n      <th>41</th>\n      <td>NLSN</td>\n      <td>21.30</td>\n      <td>938</td>\n      <td>0.0258353</td>\n      <td>42.5743</td>\n      <td>0.446292</td>\n      <td>80.396</td>\n      <td>0.479857</td>\n      <td>93.2673</td>\n      <td>0.249887</td>\n      <td>99.802</td>\n      <td>79.0099</td>\n    </tr>\n    <tr>\n      <th>42</th>\n      <td>URI</td>\n      <td>233.25</td>\n      <td>85</td>\n      <td>0.387874</td>\n      <td>84.3564</td>\n      <td>0.639428</td>\n      <td>93.6634</td>\n      <td>0.391701</td>\n      <td>87.3267</td>\n      <td>0.00975404</td>\n      <td>48.9109</td>\n      <td>78.5644</td>\n    </tr>\n    <tr>\n      <th>43</th>\n      <td>LB</td>\n      <td>40.74</td>\n      <td>490</td>\n      <td>1.18781</td>\n      <td>99.4059</td>\n      <td>1.77838</td>\n      <td>100</td>\n      <td>0.284961</td>\n      <td>73.0693</td>\n      <td>0.000269464</td>\n      <td>41.3861</td>\n      <td>78.4653</td>\n    </tr>\n    <tr>\n      <th>44</th>\n      <td>FFIV</td>\n      <td>179.48</td>\n      <td>111</td>\n      <td>0.269932</td>\n      <td>76.2376</td>\n      <td>0.312741</td>\n      <td>63.9604</td>\n      <td>0.469121</td>\n      <td>91.8812</td>\n      <td>0.0676476</td>\n      <td>81.5842</td>\n      <td>78.4158</td>\n    </tr>\n    <tr>\n      <th>45</th>\n      <td>PKI</td>\n      <td>144.58</td>\n      <td>138</td>\n      <td>0.44664</td>\n      <td>89.505</td>\n      <td>0.480536</td>\n      <td>85.3465</td>\n      <td>0.171452</td>\n      <td>49.1089</td>\n      <td>0.0974043</td>\n      <td>89.3069</td>\n      <td>78.3168</td>\n    </tr>\n    <tr>\n      <th>46</th>\n      <td>HWM</td>\n      <td>28.71</td>\n      <td>696</td>\n      <td>-0.129882</td>\n      <td>22.3762</td>\n      <td>0.806201</td>\n      <td>97.6238</td>\n      <td>0.671929</td>\n      <td>98.4158</td>\n      <td>0.120976</td>\n      <td>94.4554</td>\n      <td>78.2178</td>\n    </tr>\n    <tr>\n      <th>47</th>\n      <td>ISRG</td>\n      <td>808.00</td>\n      <td>24</td>\n      <td>0.355751</td>\n      <td>82.1782</td>\n      <td>0.459234</td>\n      <td>82.1782</td>\n      <td>0.198309</td>\n      <td>54.6535</td>\n      <td>0.116039</td>\n      <td>92.4752</td>\n      <td>77.8713</td>\n    </tr>\n    <tr>\n      <th>48</th>\n      <td>KEYS</td>\n      <td>134.78</td>\n      <td>148</td>\n      <td>0.279989</td>\n      <td>77.0297</td>\n      <td>0.304926</td>\n      <td>62.1782</td>\n      <td>0.336351</td>\n      <td>80.9901</td>\n      <td>0.105205</td>\n      <td>90.6931</td>\n      <td>77.7228</td>\n    </tr>\n    <tr>\n      <th>49</th>\n      <td>CPRT</td>\n      <td>128.13</td>\n      <td>156</td>\n      <td>0.378458</td>\n      <td>83.1683</td>\n      <td>0.535034</td>\n      <td>88.7129</td>\n      <td>0.190914</td>\n      <td>52.8713</td>\n      <td>0.0801051</td>\n      <td>84.9505</td>\n      <td>77.4257</td>\n    </tr>\n  </tbody>\n</table>\n</div>"
     },
     "metadata": {},
     "execution_count": 127
    }
   ],
   "source": [
    "position_size = float(p_size)/len(hqm_df.index)\n",
    "\n",
    "for i in hqm_df.index:\n",
    "    hqm_df.loc[i, 'Shares to Buy'] = math.floor(position_size/hqm_df.loc[i, 'Price'])\n",
    "\n",
    "hqm_df"
   ]
  },
  {
   "cell_type": "markdown",
   "metadata": {},
   "source": [
    "## Formatting Our Excel Output\n",
    "\n",
    "We will be using the XlsxWriter library for Python to create nicely-formatted Excel files.\n",
    "\n",
    "XlsxWriter is an excellent package and offers tons of customization. However, the tradeoff for this is that the library can seem very complicated to new users. Accordingly, this section will be fairly long because I want to do a good job of explaining how XlsxWriter works."
   ]
  },
  {
   "cell_type": "code",
   "execution_count": null,
   "metadata": {},
   "outputs": [],
   "source": []
  },
  {
   "cell_type": "markdown",
   "metadata": {},
   "source": [
    "## Creating the Formats We'll Need For Our .xlsx File\n",
    "\n",
    "You'll recall from our first project that formats include colors, fonts, and also symbols like % and $. We'll need four main formats for our Excel document:\n",
    "\n",
    "* String format for tickers\n",
    "* \\$XX.XX format for stock prices\n",
    "* \\$XX,XXX format for market capitalization\n",
    "* Integer format for the number of shares to purchase\n",
    "\n",
    "Since we already built our formats in the last section of this course, I've included them below for you. Run this code cell before proceeding."
   ]
  },
  {
   "cell_type": "code",
   "execution_count": 128,
   "metadata": {},
   "outputs": [
    {
     "output_type": "error",
     "ename": "NameError",
     "evalue": "name 'writer' is not defined",
     "traceback": [
      "\u001b[0;31m---------------------------------------------------------------------------\u001b[0m",
      "\u001b[0;31mNameError\u001b[0m                                 Traceback (most recent call last)",
      "\u001b[0;32m<ipython-input-128-929b75216063>\u001b[0m in \u001b[0;36m<module>\u001b[0;34m()\u001b[0m\n\u001b[1;32m      2\u001b[0m \u001b[0mfont_color\u001b[0m \u001b[0;34m=\u001b[0m \u001b[0;34m'#ffffff'\u001b[0m\u001b[0;34m\u001b[0m\u001b[0;34m\u001b[0m\u001b[0m\n\u001b[1;32m      3\u001b[0m \u001b[0;34m\u001b[0m\u001b[0m\n\u001b[0;32m----> 4\u001b[0;31m string_template = writer.book.add_format(\n\u001b[0m\u001b[1;32m      5\u001b[0m         {\n\u001b[1;32m      6\u001b[0m             \u001b[0;34m'font_color'\u001b[0m\u001b[0;34m:\u001b[0m \u001b[0mfont_color\u001b[0m\u001b[0;34m,\u001b[0m\u001b[0;34m\u001b[0m\u001b[0;34m\u001b[0m\u001b[0m\n",
      "\u001b[0;31mNameError\u001b[0m: name 'writer' is not defined"
     ]
    }
   ],
   "source": [
    "background_color = '#0a0a23'\n",
    "font_color = '#ffffff'\n",
    "\n",
    "string_template = writer.book.add_format(\n",
    "        {\n",
    "            'font_color': font_color,\n",
    "            'bg_color': background_color,\n",
    "            'border': 1\n",
    "        }\n",
    "    )\n",
    "\n",
    "dollar_template = writer.book.add_format(\n",
    "        {\n",
    "            'num_format':'$0.00',\n",
    "            'font_color': font_color,\n",
    "            'bg_color': background_color,\n",
    "            'border': 1\n",
    "        }\n",
    "    )\n",
    "\n",
    "integer_template = writer.book.add_format(\n",
    "        {\n",
    "            'num_format':'0',\n",
    "            'font_color': font_color,\n",
    "            'bg_color': background_color,\n",
    "            'border': 1\n",
    "        }\n",
    "    )\n",
    "\n",
    "percent_template = writer.book.add_format(\n",
    "        {\n",
    "            'num_format':'0.0%',\n",
    "            'font_color': font_color,\n",
    "            'bg_color': background_color,\n",
    "            'border': 1\n",
    "        }\n",
    "    )"
   ]
  },
  {
   "cell_type": "code",
   "execution_count": null,
   "metadata": {},
   "outputs": [],
   "source": []
  },
  {
   "cell_type": "markdown",
   "metadata": {},
   "source": [
    "## Saving Our Excel Output\n",
    "\n",
    "As before, saving our Excel output is very easy:"
   ]
  },
  {
   "cell_type": "code",
   "execution_count": null,
   "metadata": {},
   "outputs": [],
   "source": []
  }
 ],
 "metadata": {
  "kernelspec": {
   "name": "python3",
   "display_name": "Python 3.6.9 64-bit",
   "metadata": {
    "interpreter": {
     "hash": "31f2aee4e71d21fbe5cf8b01ff0e069b9275f58929596ceb00d14d90e3e16cd6"
    }
   }
  }
 },
 "nbformat": 4,
 "nbformat_minor": 4
}