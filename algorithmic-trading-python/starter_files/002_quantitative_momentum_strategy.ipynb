{
 "cells": [
  {
   "cell_type": "markdown",
   "metadata": {},
   "source": [
    "# Quantitative Momentum Strategy\n",
    "\n",
    "\"Momentum investing\" means investing in the stocks that have increased in price the most.\n",
    "\n",
    "For this project, we're going to build an investing strategy that selects the 50 stocks with the highest price momentum. From there, we will calculate recommended trades for an equal-weight portfolio of these 50 stocks.\n",
    "\n",
    "\n",
    "## Library Imports\n",
    "\n",
    "The first thing we need to do is import the open-source software libraries that we'll be using in this tutorial."
   ]
  },
  {
   "cell_type": "code",
   "execution_count": 13,
   "metadata": {},
   "outputs": [
    {
     "output_type": "stream",
     "name": "stdout",
     "text": [
      "Requirement already satisfied: xlsxwriter in /usr/local/lib/python3.6/dist-packages (1.3.7)\n",
      "Requirement already satisfied: python-dotenv in /usr/local/lib/python3.6/dist-packages (0.15.0)\n"
     ]
    },
    {
     "output_type": "execute_result",
     "data": {
      "text/plain": [
       "True"
      ]
     },
     "metadata": {},
     "execution_count": 13
    }
   ],
   "source": [
    "!pip install xlsxwriter\n",
    "!pip install python-dotenv\n",
    "\n",
    "import os\n",
    "import numpy as np\n",
    "import pandas as pd\n",
    "import requests\n",
    "import math\n",
    "from scipy import stats\n",
    "import xlsxwriter\n",
    "\n",
    "from dotenv import load_dotenv\n",
    "load_dotenv()"
   ]
  },
  {
   "cell_type": "markdown",
   "metadata": {},
   "source": [
    "## Importing Our List of Stocks\n",
    "\n",
    "As before, we'll need to import our list of stocks and our API token before proceeding. Make sure the `.csv` file is still in your working directory and import it with the following command:"
   ]
  },
  {
   "cell_type": "code",
   "execution_count": 14,
   "metadata": {},
   "outputs": [
    {
     "output_type": "stream",
     "name": "stdout",
     "text": [
      "505\nTpk_059b97af715d417d9f49f50b51b1c448\n"
     ]
    }
   ],
   "source": [
    "pwd = '/content/trading_practice/algorithmic-trading-python/starter_files'\n",
    "\n",
    "stocks = pd.read_csv(f'{pwd}/sp_500_stocks.csv')\n",
    "print(len(stocks.index))\n",
    "\n",
    "token = os.getenv(\"IEX_CLOUD_API_TOKEN\")\n",
    "print(token)"
   ]
  },
  {
   "cell_type": "code",
   "execution_count": null,
   "metadata": {},
   "outputs": [],
   "source": []
  },
  {
   "cell_type": "markdown",
   "metadata": {},
   "source": [
    "## Making Our First API Call\n",
    "\n",
    "It's now time to make the first version of our momentum screener!\n",
    "\n",
    "We need to get one-year price returns for each stock in the universe. Here's how."
   ]
  },
  {
   "cell_type": "code",
   "execution_count": 15,
   "metadata": {},
   "outputs": [
    {
     "output_type": "execute_result",
     "data": {
      "text/plain": [
       "{'avg10Volume': 122705751,\n",
       " 'avg30Volume': 105541037,\n",
       " 'beta': 1.1690099210016751,\n",
       " 'companyName': 'Apple Inc',\n",
       " 'day200MovingAvg': 116.1,\n",
       " 'day30ChangePercent': 0.13755936770161706,\n",
       " 'day50MovingAvg': 124.44,\n",
       " 'day5ChangePercent': 0.04388825950323173,\n",
       " 'dividendYield': 0.00610374853991458,\n",
       " 'employees': 142745,\n",
       " 'exDividendDate': '2020-11-02',\n",
       " 'float': 0,\n",
       " 'marketcap': 2340406823694,\n",
       " 'maxChangePercent': 49.9154829520143,\n",
       " 'month1ChangePercent': 0.13972892773130516,\n",
       " 'month3ChangePercent': 0.18105769835579044,\n",
       " 'month6ChangePercent': 0.4711240894024029,\n",
       " 'nextDividendDate': '0',\n",
       " 'nextEarningsDate': '0',\n",
       " 'peRatio': 39.143011018065785,\n",
       " 'sharesOutstanding': 17168563993,\n",
       " 'ttmDividendRate': 0.8251033452643882,\n",
       " 'ttmEPS': 3.41,\n",
       " 'week52change': 0.8779231612984505,\n",
       " 'week52high': 140.31,\n",
       " 'week52low': 57.77,\n",
       " 'year1ChangePercent': 0.8864823311598857,\n",
       " 'year2ChangePercent': 2.765092438923646,\n",
       " 'year5ChangePercent': 4.312315745483525,\n",
       " 'ytdChangePercent': 0.8479466378045913}"
      ]
     },
     "metadata": {},
     "execution_count": 15
    }
   ],
   "source": [
    "symbol = 'AAPL'\n",
    "api_url = f'https://sandbox.iexapis.com/stable/stock/{symbol}/stats?token={token}'\n",
    "data = requests.get(api_url).json()\n",
    "data"
   ]
  },
  {
   "cell_type": "code",
   "execution_count": null,
   "metadata": {},
   "outputs": [],
   "source": []
  },
  {
   "cell_type": "code",
   "execution_count": null,
   "metadata": {},
   "outputs": [],
   "source": []
  },
  {
   "cell_type": "markdown",
   "metadata": {},
   "source": [
    "## Parsing Our API Call\n",
    "\n",
    "This API call has all the information we need. We can parse it using the same square-bracket notation as in the first project of this course. Here is an example."
   ]
  },
  {
   "cell_type": "code",
   "execution_count": 16,
   "metadata": {},
   "outputs": [
    {
     "output_type": "execute_result",
     "data": {
      "text/plain": [
       "0.8864823311598857"
      ]
     },
     "metadata": {},
     "execution_count": 16
    }
   ],
   "source": [
    "data['year1ChangePercent']"
   ]
  },
  {
   "cell_type": "markdown",
   "metadata": {},
   "source": [
    "## Executing A Batch API Call & Building Our DataFrame\n",
    "\n",
    "Just like in our first project, it's now time to execute several batch API calls and add the information we need to our DataFrame.\n",
    "\n",
    "We'll start by running the following code cell, which contains some code we already built last time that we can re-use for this project. More specifically, it contains a function called `chunks` that we can use to divide our list of securities into groups of 100."
   ]
  },
  {
   "cell_type": "code",
   "execution_count": 17,
   "metadata": {},
   "outputs": [],
   "source": [
    "# Function sourced from \n",
    "# https://stackoverflow.com/questions/312443/how-do-you-split-a-list-into-evenly-sized-chunks\n",
    "def chunks(lst, n):\n",
    "    \"\"\"Yield successive n-sized chunks from lst.\"\"\"\n",
    "    for i in range(0, len(lst), n):\n",
    "        yield lst[i:i + n]   \n",
    "        \n",
    "symbol_groups = list(chunks(stocks['Ticker'], 100))\n",
    "symbol_strings = []\n",
    "for i in range(0, len(symbol_groups)):\n",
    "    symbol_strings.append(','.join(symbol_groups[i]))\n",
    "    # print(symbol_strings[i])\n",
    "\n",
    "my_columns = ['Ticker', 'Price', 'One-Year Price Return', 'Shares to Buy']"
   ]
  },
  {
   "cell_type": "markdown",
   "metadata": {},
   "source": [
    "Now we need to create a blank DataFrame and add our data to the data frame one-by-one."
   ]
  },
  {
   "cell_type": "code",
   "execution_count": 18,
   "metadata": {},
   "outputs": [
    {
     "output_type": "execute_result",
     "data": {
      "text/plain": [
       "    Ticker   Price One-Year Price Return Shares to Buy\n",
       "0        A  117.78              0.397622           N/A\n",
       "1      AAL   16.13             -0.472104           N/A\n",
       "2      AAP  163.45            0.00856321           N/A\n",
       "3     AAPL  137.63              0.906846           N/A\n",
       "4     ABBV  105.44              0.218976           N/A\n",
       "..     ...     ...                   ...           ...\n",
       "500    YUM  111.29             0.0967063           N/A\n",
       "501    ZBH  151.50             -0.001265           N/A\n",
       "502   ZBRA  379.31              0.488791           N/A\n",
       "503   ZION   43.52             -0.128253           N/A\n",
       "504    ZTS  167.99              0.219832           N/A\n",
       "\n",
       "[505 rows x 4 columns]"
      ],
      "text/html": "<div>\n<style scoped>\n    .dataframe tbody tr th:only-of-type {\n        vertical-align: middle;\n    }\n\n    .dataframe tbody tr th {\n        vertical-align: top;\n    }\n\n    .dataframe thead th {\n        text-align: right;\n    }\n</style>\n<table border=\"1\" class=\"dataframe\">\n  <thead>\n    <tr style=\"text-align: right;\">\n      <th></th>\n      <th>Ticker</th>\n      <th>Price</th>\n      <th>One-Year Price Return</th>\n      <th>Shares to Buy</th>\n    </tr>\n  </thead>\n  <tbody>\n    <tr>\n      <th>0</th>\n      <td>A</td>\n      <td>117.78</td>\n      <td>0.397622</td>\n      <td>N/A</td>\n    </tr>\n    <tr>\n      <th>1</th>\n      <td>AAL</td>\n      <td>16.13</td>\n      <td>-0.472104</td>\n      <td>N/A</td>\n    </tr>\n    <tr>\n      <th>2</th>\n      <td>AAP</td>\n      <td>163.45</td>\n      <td>0.00856321</td>\n      <td>N/A</td>\n    </tr>\n    <tr>\n      <th>3</th>\n      <td>AAPL</td>\n      <td>137.63</td>\n      <td>0.906846</td>\n      <td>N/A</td>\n    </tr>\n    <tr>\n      <th>4</th>\n      <td>ABBV</td>\n      <td>105.44</td>\n      <td>0.218976</td>\n      <td>N/A</td>\n    </tr>\n    <tr>\n      <th>...</th>\n      <td>...</td>\n      <td>...</td>\n      <td>...</td>\n      <td>...</td>\n    </tr>\n    <tr>\n      <th>500</th>\n      <td>YUM</td>\n      <td>111.29</td>\n      <td>0.0967063</td>\n      <td>N/A</td>\n    </tr>\n    <tr>\n      <th>501</th>\n      <td>ZBH</td>\n      <td>151.50</td>\n      <td>-0.001265</td>\n      <td>N/A</td>\n    </tr>\n    <tr>\n      <th>502</th>\n      <td>ZBRA</td>\n      <td>379.31</td>\n      <td>0.488791</td>\n      <td>N/A</td>\n    </tr>\n    <tr>\n      <th>503</th>\n      <td>ZION</td>\n      <td>43.52</td>\n      <td>-0.128253</td>\n      <td>N/A</td>\n    </tr>\n    <tr>\n      <th>504</th>\n      <td>ZTS</td>\n      <td>167.99</td>\n      <td>0.219832</td>\n      <td>N/A</td>\n    </tr>\n  </tbody>\n</table>\n<p>505 rows × 4 columns</p>\n</div>"
     },
     "metadata": {},
     "execution_count": 18
    }
   ],
   "source": [
    "import json\n",
    "\n",
    "df = pd.DataFrame(columns = my_columns)\n",
    "\n",
    "batch_url = 'https://sandbox.iexapis.com/stable/stock/market/batch'\n",
    "\n",
    "for symbol_string in symbol_strings:\n",
    "    batch_api_call_url = f'{batch_url}/?types=stats,quote&symbols={symbol_string}&token={token}'\n",
    "    data = requests.get(batch_api_call_url).json()\n",
    "\n",
    "    for symbol in symbol_string.split(','):\n",
    "        df = df.append(\n",
    "            pd.Series(\n",
    "                [\n",
    "                    symbol, \n",
    "                    data[symbol]['quote']['latestPrice'],\n",
    "                    data[symbol]['stats']['year1ChangePercent'],\n",
    "                    'N/A'\n",
    "                ], \n",
    "                index = my_columns), \n",
    "                ignore_index = True\n",
    "                )\n",
    "        \n",
    "    \n",
    "df"
   ]
  },
  {
   "cell_type": "code",
   "execution_count": null,
   "metadata": {},
   "outputs": [],
   "source": []
  },
  {
   "cell_type": "markdown",
   "metadata": {},
   "source": [
    "## Removing Low-Momentum Stocks\n",
    "\n",
    "The investment strategy that we're building seeks to identify the 50 highest-momentum stocks in the S&P 500.\n",
    "\n",
    "Because of this, the next thing we need to do is remove all the stocks in our DataFrame that fall below this momentum threshold. We'll sort the DataFrame by the stocks' one-year price return, and drop all stocks outside the top 50.\n"
   ]
  },
  {
   "cell_type": "code",
   "execution_count": 19,
   "metadata": {},
   "outputs": [
    {
     "output_type": "execute_result",
     "data": {
      "text/plain": [
       "  Ticker   Price One-Year Price Return Shares to Buy\n",
       "0   CARR   39.02                2.2324           N/A\n",
       "1   PYPL  240.98               1.23026           N/A\n",
       "2     LB   39.13               1.19489           N/A\n",
       "3   NVDA  524.38               1.19146           N/A\n",
       "4    ALB  154.99               1.13916           N/A"
      ],
      "text/html": "<div>\n<style scoped>\n    .dataframe tbody tr th:only-of-type {\n        vertical-align: middle;\n    }\n\n    .dataframe tbody tr th {\n        vertical-align: top;\n    }\n\n    .dataframe thead th {\n        text-align: right;\n    }\n</style>\n<table border=\"1\" class=\"dataframe\">\n  <thead>\n    <tr style=\"text-align: right;\">\n      <th></th>\n      <th>Ticker</th>\n      <th>Price</th>\n      <th>One-Year Price Return</th>\n      <th>Shares to Buy</th>\n    </tr>\n  </thead>\n  <tbody>\n    <tr>\n      <th>0</th>\n      <td>CARR</td>\n      <td>39.02</td>\n      <td>2.2324</td>\n      <td>N/A</td>\n    </tr>\n    <tr>\n      <th>1</th>\n      <td>PYPL</td>\n      <td>240.98</td>\n      <td>1.23026</td>\n      <td>N/A</td>\n    </tr>\n    <tr>\n      <th>2</th>\n      <td>LB</td>\n      <td>39.13</td>\n      <td>1.19489</td>\n      <td>N/A</td>\n    </tr>\n    <tr>\n      <th>3</th>\n      <td>NVDA</td>\n      <td>524.38</td>\n      <td>1.19146</td>\n      <td>N/A</td>\n    </tr>\n    <tr>\n      <th>4</th>\n      <td>ALB</td>\n      <td>154.99</td>\n      <td>1.13916</td>\n      <td>N/A</td>\n    </tr>\n  </tbody>\n</table>\n</div>"
     },
     "metadata": {},
     "execution_count": 19
    }
   ],
   "source": [
    "df.sort_values('One-Year Price Return', ascending = False, inplace = True)\n",
    "df = df[:50]\n",
    "\n",
    "df = df.reset_index(level=0, drop=True)\n",
    "\n",
    "df.head()"
   ]
  },
  {
   "cell_type": "markdown",
   "metadata": {},
   "source": [
    "## Calculating the Number of Shares to Buy\n",
    "\n",
    "Just like in the last project, we now need to calculate the number of shares we need to buy. The one change we're going to make is wrapping this functionality inside a function, since we'll be using it again later in this Jupyter Notebook.\n",
    "\n",
    "Since we've already done most of the work on this, try to complete the following two code cells without watching me do it first!"
   ]
  },
  {
   "cell_type": "code",
   "execution_count": 32,
   "metadata": {},
   "outputs": [],
   "source": [
    "def portfolio_size():\n",
    "    global p_size\n",
    "    p_size = input('Enter the size of your portfolio: ')\n",
    "    \n",
    "    try:\n",
    "        float(p_size)\n",
    "    except ValueError:\n",
    "        print(\"Not a number\")\n",
    "        portfolio_size()\n",
    "\n",
    "portfolio_size()"
   ]
  },
  {
   "cell_type": "code",
   "execution_count": 38,
   "metadata": {},
   "outputs": [
    {
     "output_type": "execute_result",
     "data": {
      "text/plain": [
       "  Ticker   Price One-Year Price Return Shares to Buy\n",
       "0   CARR   39.02                2.2324          5125\n",
       "1   PYPL  240.98               1.23026           829\n",
       "2     LB   39.13               1.19489          5111\n",
       "3   NVDA  524.38               1.19146           381\n",
       "4    ALB  154.99               1.13916          1290"
      ],
      "text/html": "<div>\n<style scoped>\n    .dataframe tbody tr th:only-of-type {\n        vertical-align: middle;\n    }\n\n    .dataframe tbody tr th {\n        vertical-align: top;\n    }\n\n    .dataframe thead th {\n        text-align: right;\n    }\n</style>\n<table border=\"1\" class=\"dataframe\">\n  <thead>\n    <tr style=\"text-align: right;\">\n      <th></th>\n      <th>Ticker</th>\n      <th>Price</th>\n      <th>One-Year Price Return</th>\n      <th>Shares to Buy</th>\n    </tr>\n  </thead>\n  <tbody>\n    <tr>\n      <th>0</th>\n      <td>CARR</td>\n      <td>39.02</td>\n      <td>2.2324</td>\n      <td>5125</td>\n    </tr>\n    <tr>\n      <th>1</th>\n      <td>PYPL</td>\n      <td>240.98</td>\n      <td>1.23026</td>\n      <td>829</td>\n    </tr>\n    <tr>\n      <th>2</th>\n      <td>LB</td>\n      <td>39.13</td>\n      <td>1.19489</td>\n      <td>5111</td>\n    </tr>\n    <tr>\n      <th>3</th>\n      <td>NVDA</td>\n      <td>524.38</td>\n      <td>1.19146</td>\n      <td>381</td>\n    </tr>\n    <tr>\n      <th>4</th>\n      <td>ALB</td>\n      <td>154.99</td>\n      <td>1.13916</td>\n      <td>1290</td>\n    </tr>\n  </tbody>\n</table>\n</div>"
     },
     "metadata": {},
     "execution_count": 38
    }
   ],
   "source": [
    "position_size = float(p_size)/len(df)\n",
    "\n",
    "for i in range(0, len(df)):\n",
    "    df.loc[i, 'Shares to Buy'] = math.floor(position_size/df.loc[i, 'Price'])\n",
    "\n",
    "df.head()"
   ]
  },
  {
   "cell_type": "markdown",
   "metadata": {},
   "source": [
    "## Building a Better (and More Realistic) Momentum Strategy\n",
    "\n",
    "Real-world quantitative investment firms differentiate between \"high quality\" and \"low quality\" momentum stocks:\n",
    "\n",
    "* High-quality momentum stocks show \"slow and steady\" outperformance over long periods of time\n",
    "* Low-quality momentum stocks might not show any momentum for a long time, and then surge upwards.\n",
    "\n",
    "The reason why high-quality momentum stocks are preferred is because low-quality momentum can often be cause by short-term news that is unlikely to be repeated in the future (such as an FDA approval for a biotechnology company).\n",
    "\n",
    "To identify high-quality momentum, we're going to build a strategy that selects stocks from the highest percentiles of: \n",
    "\n",
    "* 1-month price returns\n",
    "* 3-month price returns\n",
    "* 6-month price returns\n",
    "* 1-year price returns\n",
    "\n",
    "Let's start by building our DataFrame. You'll notice that I use the abbreviation `hqm` often. It stands for `high-quality momentum`."
   ]
  },
  {
   "cell_type": "code",
   "execution_count": 46,
   "metadata": {
    "tags": []
   },
   "outputs": [
    {
     "output_type": "stream",
     "name": "stdout",
     "text": [
      "hange': 0, 'extendedChangePercent': 0, 'extendedPriceTime': 1657180783872, 'previousClose': 42.01, 'previousVolume': 19426022, 'change': -0.18, 'changePercent': -0.00415, 'volume': 8207943, 'iexMarketPercent': None, 'iexVolume': None, 'avgTotalVolume': 29681492, 'iexBidPrice': None, 'iexBidSize': None, 'iexAskPrice': None, 'iexAskSize': None, 'iexOpen': 41.6, 'iexOpenTime': 1610375001005, 'iexClose': 41.8, 'iexCloseTime': 1664595966572, 'marketCap': 178745418775, 'peRatio': 55.7, 'week52High': 67.79, 'week52Low': 30.88, 'ytdChange': -0.3728050132681246, 'lastTradeTime': 1648914170503, 'isUSMarketOpen': False}}, 'XRAY': {'stats': {'companyName': 'DENTSPLY Sirona Inc', 'marketcap': 11326664224, 'week52high': 62.29, 'week52low': 31.8, 'week52change': -0.08175971743189035, 'sharesOutstanding': 225233391, 'float': 0, 'avg10Volume': 1172787, 'avg30Volume': 1134671, 'day200MovingAvg': 47.58, 'day50MovingAvg': 53.55, 'employees': 16462, 'ttmEPS': -0.2199, 'ttmDividendRate': 0.4178697112358935, 'dividendYield': 0.007729467775817688, 'nextDividendDate': '0', 'exDividendDate': '2020-12-10', 'nextEarningsDate': '0', 'peRatio': -242.10974215558, 'beta': 0.9469139323944361, 'maxChangePercent': 0.9004709514913676, 'year5ChangePercent': -0.12420411890594844, 'year2ChangePercent': 0.4987293860808211, 'year1ChangePercent': -0.0869007254299431, 'ytdChangePercent': -0.07609195735214201, 'month6ChangePercent': 0.2161218857159217, 'month3ChangePercent': 0.20325431226732, 'month1ChangePercent': 0.01184608052177072, 'day30ChangePercent': 0.01225849981479461, 'day5ChangePercent': -0.012968241730133162}, 'quote': {'symbol': 'XRAY', 'companyName': 'DENTSPLY Sirona Inc', 'primaryExchange': 'SN)MEECA(GLLBTTAD  RA NLEQKGSSA/O', 'calculationPrice': 'close', 'open': 53.49, 'openTime': 1669340586953, 'openSource': 'loiifacf', 'close': 54.18, 'closeTime': 1639040492986, 'closeSource': 'fioilfac', 'high': 52.81, 'highTime': 1666569939997, 'highSource': 'iatr ieXlEpe r ecIm', 'low': 52.367, 'lowTime': 1657294619481, 'lowSource': 'eerii5  deayptnl duemc1', 'latestPrice': 54.05, 'latestSource': 'Close', 'latestTime': 'December 24, 2020', 'latestUpdate': 1613984191374, 'latestVolume': 219153, 'iexRealtimePrice': None, 'iexRealtimeSize': None, 'iexLastUpdated': None, 'delayedPrice': 52.47, 'delayedPriceTime': 1625111202862, 'oddLotDelayedPrice': 53.36, 'oddLotDelayedPriceTime': 1674436202944, 'extendedPrice': 55.65, 'extendedChange': 1.39, 'extendedChangePercent': 0.02601, 'extendedPriceTime': 1675323583712, 'previousClose': 52.75, 'previousVolume': 508439, 'change': 0.22, 'changePercent': 0.00419, 'volume': 219096, 'iexMarketPercent': None, 'iexVolume': None, 'avgTotalVolume': 1159161, 'iexBidPrice': None, 'iexBidSize': None, 'iexAskPrice': None, 'iexAskSize': None, 'iexOpen': 54.36, 'iexOpenTime': 1647773211237, 'iexClose': 53.96, 'iexCloseTime': 1665762503430, 'marketCap': 11857713303, 'peRatio': -248.59, 'week52High': 60.75, 'week52Low': 32.2, 'ytdChange': -0.07507930241025408, 'lastTradeTime': 1665254636526, 'isUSMarketOpen': False}}, 'XRX': {'stats': {'companyName': 'Xerox Holdings Corp', 'marketcap': 4678373040, 'week52high': 38.4, 'week52low': 15.12, 'week52change': -0.3763596643579286, 'sharesOutstanding': 199301389, 'float': 0, 'avg10Volume': 2877259, 'avg30Volume': 2205955, 'day200MovingAvg': 19.52, 'day50MovingAvg': 23.3, 'employees': 27074, 'ttmEPS': 0, 'ttmDividendRate': 0.9911081253565731, 'dividendYield': 0.04372437067750462, 'nextDividendDate': '2020-12-23', 'exDividendDate': '2020-09-21', 'nextEarningsDate': '0', 'peRatio': 0, 'beta': 1.441979004202247, 'maxChangePercent': -0.2502352614985748, 'year5ChangePercent': -0.2538971731945093, 'year2ChangePercent': -0.255689276790085, 'year1ChangePercent': -0.3771681190664004, 'ytdChangePercent': -0.3718817081223008, 'month6ChangePercent': 0.5019987711897765, 'month3ChangePercent': 0.28287359002667767, 'month1ChangePercent': -0.03448176975906442, 'day30ChangePercent': -0.03547903472382394, 'day5ChangePercent': -0.012410978548432566}, 'quote': {'symbol': 'XRX', 'companyName': 'Xerox Holdings Corp', 'primaryExchange': 'XKONYS CN.TECNW OEC ,HAGKEIR ', 'calculationPrice': 'close', 'open': 23.99, 'openTime': 1675501620904, 'openSource': 'filioafc', 'close': 22.98, 'closeTime': 1634882450241, 'closeSource': 'ioifcfla', 'high': 23.9, 'highTime': 1635139637207, 'highSource': ' tymr i ie1npe5cdueaeld', 'low': 22.945, 'lowTime': 1671419765858, 'lowSource': 'tcpyreudnm dl1  iei5aee', 'latestPrice': 23.71, 'latestSource': 'Close', 'latestTime': 'December 24, 2020', 'latestUpdate': 1642698770103, 'latestVolume': 975277, 'iexRealtimePrice': None, 'iexRealtimeSize': None, 'iexLastUpdated': None, 'delayedPrice': 23.13, 'delayedPriceTime': 1649738201575, 'oddLotDelayedPrice': 23.2, 'oddLotDelayedPriceTime': 1643003703429, 'extendedPrice': 22.94, 'extendedChange': 0, 'extendedChangePercent': 0, 'extendedPriceTime': 1659205447530, 'previousClose': 23.16, 'previousVolume': 1158371, 'change': -0.2, 'changePercent': -0.00902, 'volume': 970969, 'iexMarketPercent': None, 'iexVolume': None, 'avgTotalVolume': 2222523, 'iexBidPrice': None, 'iexBidSize': None, 'iexAskPrice': None, 'iexAskSize': None, 'iexOpen': 22.64, 'iexOpenTime': 1666716454565, 'iexClose': 22.865, 'iexCloseTime': 1646608796478, 'marketCap': 4633991613, 'peRatio': None, 'week52High': 37.2, 'week52Low': 14.6, 'ytdChange': -0.3795874686143335, 'lastTradeTime': 1684564063445, 'isUSMarketOpen': False}}, 'XYL': {'stats': {'companyName': 'Xylem Inc', 'marketcap': 18609695275, 'week52high': 103.41, 'week52low': 56.31, 'week52change': 0.2893678379921232, 'sharesOutstanding': 183049677, 'float': 0, 'avg10Volume': 960100, 'avg30Volume': 940712, 'day200MovingAvg': 84.38, 'day50MovingAvg': 97.74, 'employees': 17625, 'ttmEPS': 1.4, 'ttmDividendRate': 1.056687005692444, 'dividendYield': 0.010654799491533935, 'nextDividendDate': '0', 'exDividendDate': '2020-10-26', 'nextEarningsDate': '0', 'peRatio': 74.4857508114715, 'beta': 1.1388568451700898, 'maxChangePercent': 3.314749236913187, 'year5ChangePercent': 1.9236234736789084, 'year2ChangePercent': 0.7084214316478625, 'year1ChangePercent': 0.2932166637511822, 'ytdChangePercent': 0.299103297163771, 'month6ChangePercent': 0.6327214243349842, 'month3ChangePercent': 0.21584420178686667, 'month1ChangePercent': 0.03717942117512289, 'day30ChangePercent': 0.03778790862644521, 'day5ChangePercent': 0.002037144348699288}, 'quote': {'symbol': 'XYL', 'companyName': 'Xylem Inc', 'primaryExchange': ',K CNEECGNHTECWIX.ROY AKSO  N', 'calculationPrice': 'close', 'open': 102.09, 'openTime': 1663188639981, 'openSource': 'floiaicf', 'close': 101.52, 'closeTime': 1682479369047, 'closeSource': 'fciaiflo', 'high': 104.17, 'highTime': 1653145856996, 'highSource': 'y etiirpudc ede 1ae5nlm', 'low': 100.28, 'lowTime': 1618892773598, 'lowSource': ' l5e rpme1ecditiaud nye', 'latestPrice': 104.45, 'latestSource': 'Close', 'latestTime': 'December 24, 2020', 'latestUpdate': 1681250081519, 'latestVolume': 258720, 'iexRealtimePrice': None, 'iexRealtimeSize': None, 'iexLastUpdated': None, 'delayedPrice': 104.5, 'delayedPriceTime': 1625339316095, 'oddLotDelayedPrice': 104.83, 'oddLotDelayedPriceTime': 1674202668765, 'extendedPrice': 104.21, 'extendedChange': 0, 'extendedChangePercent': 0, 'extendedPriceTime': 1641225288966, 'previousClose': 101.6, 'previousVolume': 596901, 'change': 0.54, 'changePercent': 0.00544, 'volume': 261224, 'iexMarketPercent': None, 'iexVolume': None, 'avgTotalVolume': 932196, 'iexBidPrice': None, 'iexBidSize': None, 'iexAskPrice': None, 'iexAskSize': None, 'iexOpen': 104.7, 'iexOpenTime': 1627082361543, 'iexClose': 102.8, 'iexCloseTime': 1637086562885, 'marketCap': 18221447723, 'peRatio': 74.82, 'week52High': 103.51, 'week52Low': 57.52, 'ytdChange': 0.299627453064424, 'lastTradeTime': 1631761668833, 'isUSMarketOpen': False}}}\n",
      "{'YUM': {'stats': {'companyName': 'Yum Brands Inc.', 'marketcap': 33826876991, 'week52high': 111.45, 'week52low': 55.9, 'week52change': 0.07829418408596849, 'sharesOutstanding': 312571799, 'float': 0, 'avg10Volume': 1928534, 'avg30Volume': 1731701, 'day200MovingAvg': 97.54, 'day50MovingAvg': 107.67, 'employees': 34155, 'ttmEPS': 3.36, 'ttmDividendRate': 1.9560388368532842, 'dividendYield': 0.017911213044985316, 'nextDividendDate': '0', 'exDividendDate': '2020-11-12', 'nextEarningsDate': '0', 'peRatio': 32.87668070347294, 'beta': 0.9571157626677669, 'maxChangePercent': 13.135229205589196, 'year5ChangePercent': 1.260162325275804, 'year2ChangePercent': 0.289382217793671, 'year1ChangePercent': 0.09445970205288926, 'ytdChangePercent': 0.09032402126414661, 'month6ChangePercent': 0.267005195158402, 'month3ChangePercent': 0.1893810239001782, 'month1ChangePercent': 0.0088299874785173, 'day30ChangePercent': 0.0088335850445195, 'day5ChangePercent': -0.020939331099551095}, 'quote': {'symbol': 'YUM', 'companyName': 'Yum Brands Inc.', 'primaryExchange': ' K., HWEENGCKOTXANEOINCRS  CY', 'calculationPrice': 'close', 'open': 107.5, 'openTime': 1632140447626, 'openSource': 'fflioiac', 'close': 109.03, 'closeTime': 1663383047248, 'closeSource': 'ifofialc', 'high': 110.9, 'highTime': 1675726012336, 'highSource': ' e reei1d yu5itdmcelpna', 'low': 109.91, 'lowTime': 1625063134778, 'lowSource': '1 mldeiry5epcadi ten ue', 'latestPrice': 111.86, 'latestSource': 'Close', 'latestTime': 'December 24, 2020', 'latestUpdate': 1608941302488, 'latestVolume': 355740, 'iexRealtimePrice': None, 'iexRealtimeSize': None, 'iexLastUpdated': None, 'delayedPrice': 112.43, 'delayedPriceTime': 1609440938802, 'oddLotDelayedPrice': 111.71, 'oddLotDelayedPriceTime': 1675829010735, 'extendedPrice': 110.08, 'extendedChange': 0, 'extendedChangePercent': 0, 'extendedPriceTime': 1616818062856, 'previousClose': 107.43, 'previousVolume': 923746, 'change': 0.77, 'changePercent': 0.00703, 'volume': 343651, 'iexMarketPercent': None, 'iexVolume': None, 'avgTotalVolume': 1717270, 'iexBidPrice': None, 'iexBidSize': None, 'iexAskPrice': None, 'iexAskSize': None, 'iexOpen': 107.86, 'iexOpenTime': 1689191358424, 'iexClose': 108.61, 'iexCloseTime': 1622802061610, 'marketCap': 33882211885, 'peRatio': 32.3, 'week52High': 111.4, 'week52Low': 56.9, 'ytdChange': 0.09562979317175505, 'lastTradeTime': 1666337859937, 'isUSMarketOpen': False}}, 'ZBH': {'stats': {'companyName': 'Zimmer Biomet Holdings Inc', 'marketcap': 31477496650, 'week52high': 164.37, 'week52low': 81.99, 'week52change': 0.002913831140825905, 'sharesOutstanding': 210414320, 'float': 0, 'avg10Volume': 918167, 'avg30Volume': 902167, 'day200MovingAvg': 142.76, 'day50MovingAvg': 154.39, 'employees': 18733, 'ttmEPS': -0.7708, 'ttmDividendRate': 0.9799301320652761, 'dividendYield': 0.00668869646467123, 'nextDividendDate': '0', 'exDividendDate': '2020-12-23', 'nextEarningsDate': '0', 'peRatio': -209.81915619383173, 'beta': 1.0475320535735022, 'maxChangePercent': 1.0000411076378508, 'year5ChangePercent': 0.5140914568847658, 'year2ChangePercent': 0.582717131274514, 'year1ChangePercent': -0.001312276345903004, 'ytdChangePercent': 0.005260371867388969, 'month6ChangePercent': 0.3117451125682282, 'month3ChangePercent': 0.11318984993221672, 'month1ChangePercent': -0.001276765310074068, 'day30ChangePercent': -0.001275488994911761, 'day5ChangePercent': -0.015880459077342545}, 'quote': {'symbol': 'ZBH', 'companyName': 'Zimmer Biomet Holdings Inc', 'primaryExchange': 'S,YKINE.WCCG  NXNT OCKEERAO H', 'calculationPrice': 'close', 'open': 151.2, 'openTime': 1636174230035, 'openSource': 'ilacffio', 'close': 154.31, 'closeTime': 1616116334924, 'closeSource': 'iffliaoc', 'high': 155.8, 'highTime': 1622635376730, 'highSource': '1apyn 5uceeili mrete dd', 'low': 149.75, 'lowTime': 1668939565897, 'lowSource': '1dmui  de5eeinrtaylc pe', 'latestPrice': 149.27, 'latestSource': 'Close', 'latestTime': 'December 24, 2020', 'latestUpdate': 1671053570308, 'latestVolume': 294433, 'iexRealtimePrice': None, 'iexRealtimeSize': None, 'iexLastUpdated': None, 'delayedPrice': 155.6, 'delayedPriceTime': 1624664528932, 'oddLotDelayedPrice': 154.96, 'oddLotDelayedPriceTime': 1647179511015, 'extendedPrice': 149.89, 'extendedChange': 0, 'extendedChangePercent': 0, 'extendedPriceTime': 1657755804050, 'previousClose': 150.32, 'previousVolume': 673407, 'change': 0.52, 'changePercent': 0.00354, 'volume': 286311, 'iexMarketPercent': None, 'iexVolume': None, 'avgTotalVolume': 928464, 'iexBidPrice': None, 'iexBidSize': None, 'iexAskPrice': None, 'iexAskSize': None, 'iexOpen': 150.9, 'iexOpenTime': 1667425326066, 'iexClose': 156.2, 'iexCloseTime': 1619383517013, 'marketCap': 32251486614, 'peRatio': -208.37, 'week52High': 166.43, 'week52Low': 80.64, 'ytdChange': 0.008851179751212941, 'lastTradeTime': 1655361906871, 'isUSMarketOpen': False}}, 'ZBRA': {'stats': {'companyName': 'Zebra Technologies Corp.', 'marketcap': 20642265265, 'week52high': 400.6, 'week52low': 164.26, 'week52change': 0.4787697869716767, 'sharesOutstanding': 54542487, 'float': 0, 'avg10Volume': 516647, 'avg30Volume': 384509, 'day200MovingAvg': 304.25, 'day50MovingAvg': 385.16, 'employees': 7559, 'ttmEPS': 9.03, 'ttmDividendRate': 0, 'dividendYield': 0, 'nextDividendDate': '0', 'exDividendDate': '0', 'nextEarningsDate': '0', 'peRatio': 43.8206734802531, 'beta': 1.193950125787695, 'maxChangePercent': 10.030909060972304, 'year5ChangePercent': 4.407538609191703, 'year2ChangePercent': 1.7011294637377523, 'year1ChangePercent': 0.486665476099673, 'ytdChangePercent': 0.47618149387145, 'month6ChangePercent': 0.49921345395157574, 'month3ChangePercent': 0.4845610287302968, 'month1ChangePercent': 0.01148730767092857, 'day30ChangePercent': 0.01123134572788056, 'day5ChangePercent': 0.010468393828896281}, 'quote': {'symbol': 'ZBRA', 'companyName': 'Zebra Technologies Corp. - Class A', 'primaryExchange': 'AASARESTA T MNQELBGL/OSEN D)GCK(L', 'calculationPrice': 'close', 'open': 396.67, 'openTime': 1676377885116, 'openSource': 'ocfiflai', 'close': 377.3, 'closeTime': 1671699224578, 'closeSource': 'coiaiffl', 'high': 388.5, 'highTime': 1637350998103, 'highSource': 'i  id5tdpracee nmyue1el', 'low': 372.6, 'lowTime': 1635683115201, 'lowSource': 'c5 emddrpeul ei n1yiaet', 'latestPrice': 385.59, 'latestSource': 'Close', 'latestTime': 'December 24, 2020', 'latestUpdate': 1618302302286, 'latestVolume': 144265, 'iexRealtimePrice': None, 'iexRealtimeSize': None, 'iexLastUpdated': None, 'delayedPrice': 377.38, 'delayedPriceTime': 1647343436928, 'oddLotDelayedPrice': 382.39, 'oddLotDelayedPriceTime': 1633630247522, 'extendedPrice': 380.3, 'extendedChange': -4.62, 'extendedChangePercent': -0.01246, 'extendedPriceTime': 1632802439007, 'previousClose': 393.67, 'previousVolume': 191588, 'change': -2.87, 'changePercent': -0.0078, 'volume': 139476, 'iexMarketPercent': None, 'iexVolume': None, 'avgTotalVolume': 373375, 'iexBidPrice': None, 'iexBidSize': None, 'iexAskPrice': None, 'iexAskSize': None, 'iexOpen': 379, 'iexOpenTime': 1623646007717, 'iexClose': 384.5, 'iexCloseTime': 1672437771049, 'marketCap': 20969346718, 'peRatio': 43.34, 'week52High': 384.19, 'week52Low': 162.71, 'ytdChange': 0.4711562679805223, 'lastTradeTime': 1642073213905, 'isUSMarketOpen': False}}, 'ZION': {'stats': {'companyName': 'Zions Bancorporation N.A', 'marketcap': 7450890679, 'week52high': 50.79, 'week52low': 23.85, 'week52change': -0.1278624813776332, 'sharesOutstanding': 171707497, 'float': 0, 'avg10Volume': 1536178, 'avg30Volume': 2397922, 'day200MovingAvg': 34.18, 'day50MovingAvg': 40.92, 'employees': 10424, 'ttmEPS': 2.43, 'ttmDividendRate': 1.373278871450362, 'dividendYield': 0.03188677298676472, 'nextDividendDate': '0', 'exDividendDate': '2020-11-04', 'nextEarningsDate': '0', 'peRatio': 18.2001270248, 'beta': 1.1314955409336844, 'maxChangePercent': -0.110081641139033, 'year5ChangePercent': -0.1114141750553866, 'year2ChangePercent': 0.20704985822366, 'year1ChangePercent': -0.13280913922525697, 'ytdChangePercent': -0.136507868451775, 'month6ChangePercent': 0.3013018219447694, 'month3ChangePercent': 0.5385282016893885, 'month1ChangePercent': 0.05847470331190838, 'day30ChangePercent': 0.05877724680295192, 'day5ChangePercent': 0.056264137393513505}, 'quote': {'symbol': 'ZION', 'companyName': 'Zions Bancorporation N.A', 'primaryExchange': 'SAMDETBNLQORGA/G T AS(LKC)SAEN EL', 'calculationPrice': 'close', 'open': 43.98, 'openTime': 1634757192924, 'openSource': 'lfiacfio', 'close': 43.89, 'closeTime': 1673064833510, 'closeSource': 'lfciofai', 'high': 44.55, 'highTime': 1669354715454, 'highSource': 'eylcem nide p1tau5dire ', 'low': 43.81, 'lowTime': 1634620938471, 'lowSource': ' der1e elenipcayi5t udm', 'latestPrice': 43.75, 'latestSource': 'Close', 'latestTime': 'December 24, 2020', 'latestUpdate': 1621596230159, 'latestVolume': 338244, 'iexRealtimePrice': None, 'iexRealtimeSize': None, 'iexLastUpdated': None, 'delayedPrice': 45.05, 'delayedPriceTime': 1618666099663, 'oddLotDelayedPrice': 44.55, 'oddLotDelayedPriceTime': 1623324014814, 'extendedPrice': 43.69, 'extendedChange': 0, 'extendedChangePercent': 0, 'extendedPriceTime': 1671889020945, 'previousClose': 44.53, 'previousVolume': 716988, 'change': -0.17, 'changePercent': -0.0041, 'volume': 331236, 'iexMarketPercent': None, 'iexVolume': None, 'avgTotalVolume': 2347566, 'iexBidPrice': None, 'iexBidSize': None, 'iexAskPrice': None, 'iexAskSize': None, 'iexOpen': 44.52, 'iexOpenTime': 1658594876293, 'iexClose': 43.45, 'iexCloseTime': 1624532080342, 'marketCap': 7148618701, 'peRatio': 19.2, 'week52High': 51.49, 'week52Low': 24.05, 'ytdChange': -0.138122549450711, 'lastTradeTime': 1670520421575, 'isUSMarketOpen': False}}, 'ZTS': {'stats': {'companyName': 'Zoetis Inc', 'marketcap': 79538522732, 'week52high': 182.18, 'week52low': 96.23, 'week52change': 0.2229606066035297, 'sharesOutstanding': 495798104, 'float': 0, 'avg10Volume': 1618889, 'avg30Volume': 1802596, 'day200MovingAvg': 162.68, 'day50MovingAvg': 166.16, 'employees': 9338, 'ttmEPS': 3.48, 'ttmDividendRate': 0.8178277078393261, 'dividendYield': 0.00504279705705587, 'nextDividendDate': '2021-01-15', 'exDividendDate': '2020-10-05', 'nextEarningsDate': '0', 'peRatio': 48.94057529283578, 'beta': 0.953713616301228, 'maxChangePercent': 4.567615791424903, 'year5ChangePercent': 2.552707392535682, 'year2ChangePercent': 1.0628773919248111, 'year1ChangePercent': 0.21988682319692784, 'ytdChangePercent': 0.22656555357854224, 'month6ChangePercent': 0.1936827266353615, 'month3ChangePercent': 0.0005106751425180923, 'month1ChangePercent': 0.003314033910158398, 'day30ChangePercent': 0.0034661035236683074, 'day5ChangePercent': -0.018170833847475087}, 'quote': {'symbol': 'ZTS', 'companyName': 'Zoetis Inc - Class A', 'primaryExchange': 'CEA  XNKCOEORC.HTSWYNE I NGK,', 'calculationPrice': 'close', 'open': 162.17, 'openTime': 1621943098562, 'openSource': 'oiilaffc', 'close': 168.74, 'closeTime': 1620062976865, 'closeSource': 'oifcilaf', 'high': 167.73, 'highTime': 1673206639820, 'highSource': '  lymi1dprd cueein5eeat', 'low': 167.78, 'lowTime': 1645905483582, 'lowSource': '5iueadnmeldpyr iee1tc  ', 'latestPrice': 166.69, 'latestSource': 'Close', 'latestTime': 'December 24, 2020', 'latestUpdate': 1687093018326, 'latestVolume': 419003, 'iexRealtimePrice': None, 'iexRealtimeSize': None, 'iexLastUpdated': None, 'delayedPrice': 162.71, 'delayedPriceTime': 1631678853413, 'oddLotDelayedPrice': 162.56, 'oddLotDelayedPriceTime': 1652011378625, 'extendedPrice': 165.08, 'extendedChange': 0, 'extendedChangePercent': 0, 'extendedPriceTime': 1661897809708, 'previousClose': 163.35, 'previousVolume': 1165116, 'change': 0.91, 'changePercent': 0.00557, 'volume': 427885, 'iexMarketPercent': None, 'iexVolume': None, 'avgTotalVolume': 1768659, 'iexBidPrice': None, 'iexBidSize': None, 'iexAskPrice': None, 'iexAskSize': None, 'iexOpen': 165.06, 'iexOpenTime': 1614977218215, 'iexClose': 164.65, 'iexCloseTime': 1631052835532, 'marketCap': 77742044650, 'peRatio': 48.66, 'week52High': 179.94, 'week52Low': 96.35, 'ytdChange': 0.23080347750780816, 'lastTradeTime': 1665152430746, 'isUSMarketOpen': False}}}\n"
     ]
    },
    {
     "output_type": "execute_result",
     "data": {
      "text/plain": [
       "    Ticker   Price  ... 1M Price Return 1M Return Percentile\n",
       "0        A  122.37  ...       0.0267832                   NA\n",
       "1      AAL   15.99  ...       0.0501126                   NA\n",
       "2      AAP  168.07  ...       0.0796205                   NA\n",
       "3     AAPL  137.05  ...        0.144205                   NA\n",
       "4     ABBV  108.02  ...     -0.00937534                   NA\n",
       "..     ...     ...  ...             ...                  ...\n",
       "500    YUM  111.86  ...      0.00882999                   NA\n",
       "501    ZBH  149.27  ...     -0.00127677                   NA\n",
       "502   ZBRA  385.59  ...       0.0114873                   NA\n",
       "503   ZION   43.75  ...       0.0584747                   NA\n",
       "504    ZTS  166.69  ...      0.00331403                   NA\n",
       "\n",
       "[505 rows x 11 columns]"
      ],
      "text/html": "<div>\n<style scoped>\n    .dataframe tbody tr th:only-of-type {\n        vertical-align: middle;\n    }\n\n    .dataframe tbody tr th {\n        vertical-align: top;\n    }\n\n    .dataframe thead th {\n        text-align: right;\n    }\n</style>\n<table border=\"1\" class=\"dataframe\">\n  <thead>\n    <tr style=\"text-align: right;\">\n      <th></th>\n      <th>Ticker</th>\n      <th>Price</th>\n      <th>Shares to Buy</th>\n      <th>1Y Price Return</th>\n      <th>1Y Return Percentile</th>\n      <th>6M Price Return</th>\n      <th>6M Return Percentile</th>\n      <th>3M Price Return</th>\n      <th>3M Return Percentile</th>\n      <th>1M Price Return</th>\n      <th>1M Return Percentile</th>\n    </tr>\n  </thead>\n  <tbody>\n    <tr>\n      <th>0</th>\n      <td>A</td>\n      <td>122.37</td>\n      <td>NA</td>\n      <td>0.398599</td>\n      <td>NA</td>\n      <td>0.359864</td>\n      <td>NA</td>\n      <td>0.211716</td>\n      <td>NA</td>\n      <td>0.0267832</td>\n      <td>NA</td>\n    </tr>\n    <tr>\n      <th>1</th>\n      <td>AAL</td>\n      <td>15.99</td>\n      <td>NA</td>\n      <td>-0.474246</td>\n      <td>NA</td>\n      <td>0.18916</td>\n      <td>NA</td>\n      <td>0.284954</td>\n      <td>NA</td>\n      <td>0.0501126</td>\n      <td>NA</td>\n    </tr>\n    <tr>\n      <th>2</th>\n      <td>AAP</td>\n      <td>168.07</td>\n      <td>NA</td>\n      <td>0.00879266</td>\n      <td>NA</td>\n      <td>0.129342</td>\n      <td>NA</td>\n      <td>0.0790237</td>\n      <td>NA</td>\n      <td>0.0796205</td>\n      <td>NA</td>\n    </tr>\n    <tr>\n      <th>3</th>\n      <td>AAPL</td>\n      <td>137.05</td>\n      <td>NA</td>\n      <td>0.887205</td>\n      <td>NA</td>\n      <td>0.460069</td>\n      <td>NA</td>\n      <td>0.178456</td>\n      <td>NA</td>\n      <td>0.144205</td>\n      <td>NA</td>\n    </tr>\n    <tr>\n      <th>4</th>\n      <td>ABBV</td>\n      <td>108.02</td>\n      <td>NA</td>\n      <td>0.219329</td>\n      <td>NA</td>\n      <td>0.0964751</td>\n      <td>NA</td>\n      <td>0.223404</td>\n      <td>NA</td>\n      <td>-0.00937534</td>\n      <td>NA</td>\n    </tr>\n    <tr>\n      <th>...</th>\n      <td>...</td>\n      <td>...</td>\n      <td>...</td>\n      <td>...</td>\n      <td>...</td>\n      <td>...</td>\n      <td>...</td>\n      <td>...</td>\n      <td>...</td>\n      <td>...</td>\n      <td>...</td>\n    </tr>\n    <tr>\n      <th>500</th>\n      <td>YUM</td>\n      <td>111.86</td>\n      <td>NA</td>\n      <td>0.0944597</td>\n      <td>NA</td>\n      <td>0.267005</td>\n      <td>NA</td>\n      <td>0.189381</td>\n      <td>NA</td>\n      <td>0.00882999</td>\n      <td>NA</td>\n    </tr>\n    <tr>\n      <th>501</th>\n      <td>ZBH</td>\n      <td>149.27</td>\n      <td>NA</td>\n      <td>-0.00131228</td>\n      <td>NA</td>\n      <td>0.311745</td>\n      <td>NA</td>\n      <td>0.11319</td>\n      <td>NA</td>\n      <td>-0.00127677</td>\n      <td>NA</td>\n    </tr>\n    <tr>\n      <th>502</th>\n      <td>ZBRA</td>\n      <td>385.59</td>\n      <td>NA</td>\n      <td>0.486665</td>\n      <td>NA</td>\n      <td>0.499213</td>\n      <td>NA</td>\n      <td>0.484561</td>\n      <td>NA</td>\n      <td>0.0114873</td>\n      <td>NA</td>\n    </tr>\n    <tr>\n      <th>503</th>\n      <td>ZION</td>\n      <td>43.75</td>\n      <td>NA</td>\n      <td>-0.132809</td>\n      <td>NA</td>\n      <td>0.301302</td>\n      <td>NA</td>\n      <td>0.538528</td>\n      <td>NA</td>\n      <td>0.0584747</td>\n      <td>NA</td>\n    </tr>\n    <tr>\n      <th>504</th>\n      <td>ZTS</td>\n      <td>166.69</td>\n      <td>NA</td>\n      <td>0.219887</td>\n      <td>NA</td>\n      <td>0.193683</td>\n      <td>NA</td>\n      <td>0.000510675</td>\n      <td>NA</td>\n      <td>0.00331403</td>\n      <td>NA</td>\n    </tr>\n  </tbody>\n</table>\n<p>505 rows × 11 columns</p>\n</div>"
     },
     "metadata": {},
     "execution_count": 46
    }
   ],
   "source": [
    "hqm_cols = [\n",
    "    'Ticker',\n",
    "    'Price',\n",
    "    'Shares to Buy',\n",
    "    '1Y Price Return',\n",
    "    '1Y Return Percentile',\n",
    "    '6M Price Return',\n",
    "    '6M Return Percentile',\n",
    "    '3M Price Return',\n",
    "    '3M Return Percentile',\n",
    "    '1M Price Return',\n",
    "    '1M Return Percentile',\n",
    "]\n",
    "\n",
    "hqm_df = pd.DataFrame(columns=hqm_cols)\n",
    "\n",
    "for symbol_string in symbol_strings:\n",
    "    batch_api_call_url = f'{batch_url}/?types=stats,quote&symbols={symbol_string}&token={token}'\n",
    "    data = requests.get(batch_api_call_url).json()\n",
    "\n",
    "    for symbol in symbol_string.split(','):\n",
    "        hqm_df = hqm_df.append(\n",
    "            pd.Series(\n",
    "                [\n",
    "                    symbol,\n",
    "                    data[symbol]['quote']['latestPrice'],\n",
    "                    'NA',\n",
    "                    data[symbol]['stats']['year1ChangePercent'],\n",
    "                    'NA',\n",
    "                    data[symbol]['stats']['month6ChangePercent'],\n",
    "                    'NA',\n",
    "                    data[symbol]['stats']['month3ChangePercent'],\n",
    "                    'NA',\n",
    "                    data[symbol]['stats']['month1ChangePercent'],\n",
    "                    'NA',\n",
    "                ], \n",
    "                index = hqm_cols), \n",
    "                ignore_index = True\n",
    "                )\n",
    "hqm_df"
   ]
  },
  {
   "cell_type": "markdown",
   "metadata": {},
   "source": [
    "## Calculating Momentum Percentiles\n",
    "\n",
    "We now need to calculate momentum percentile scores for every stock in the universe. More specifically, we need to calculate percentile scores for the following metrics for every stock:\n",
    "\n",
    "* `One-Year Price Return`\n",
    "* `Six-Month Price Return`\n",
    "* `Three-Month Price Return`\n",
    "* `One-Month Price Return`\n",
    "\n",
    "Here's how we'll do this:"
   ]
  },
  {
   "cell_type": "code",
   "execution_count": null,
   "metadata": {},
   "outputs": [],
   "source": []
  },
  {
   "cell_type": "markdown",
   "metadata": {},
   "source": [
    "## Calculating the HQM Score\n",
    "\n",
    "We'll now calculate our `HQM Score`, which is the high-quality momentum score that we'll use to filter for stocks in this investing strategy.\n",
    "\n",
    "The `HQM Score` will be the arithmetic mean of the 4 momentum percentile scores that we calculated in the last section.\n",
    "\n",
    "To calculate arithmetic mean, we will use the `mean` function from Python's built-in `statistics` module."
   ]
  },
  {
   "cell_type": "code",
   "execution_count": null,
   "metadata": {},
   "outputs": [],
   "source": []
  },
  {
   "cell_type": "markdown",
   "metadata": {},
   "source": [
    "## Selecting the 50 Best Momentum Stocks\n",
    "\n",
    "As before, we can identify the 50 best momentum stocks in our universe by sorting the DataFrame on the `HQM Score` column and dropping all but the top 50 entries."
   ]
  },
  {
   "cell_type": "code",
   "execution_count": null,
   "metadata": {},
   "outputs": [],
   "source": []
  },
  {
   "cell_type": "markdown",
   "metadata": {},
   "source": [
    "## Calculating the Number of Shares to Buy\n",
    "\n",
    "We'll use the `portfolio_input` function that we created earlier to accept our portfolio size. Then we will use similar logic in a `for` loop to calculate the number of shares to buy for each stock in our investment universe."
   ]
  },
  {
   "cell_type": "code",
   "execution_count": null,
   "metadata": {},
   "outputs": [],
   "source": []
  },
  {
   "cell_type": "code",
   "execution_count": null,
   "metadata": {},
   "outputs": [],
   "source": []
  },
  {
   "cell_type": "markdown",
   "metadata": {},
   "source": [
    "## Formatting Our Excel Output\n",
    "\n",
    "We will be using the XlsxWriter library for Python to create nicely-formatted Excel files.\n",
    "\n",
    "XlsxWriter is an excellent package and offers tons of customization. However, the tradeoff for this is that the library can seem very complicated to new users. Accordingly, this section will be fairly long because I want to do a good job of explaining how XlsxWriter works."
   ]
  },
  {
   "cell_type": "code",
   "execution_count": null,
   "metadata": {},
   "outputs": [],
   "source": []
  },
  {
   "cell_type": "markdown",
   "metadata": {},
   "source": [
    "## Creating the Formats We'll Need For Our .xlsx File\n",
    "\n",
    "You'll recall from our first project that formats include colors, fonts, and also symbols like % and $. We'll need four main formats for our Excel document:\n",
    "\n",
    "* String format for tickers\n",
    "* \\$XX.XX format for stock prices\n",
    "* \\$XX,XXX format for market capitalization\n",
    "* Integer format for the number of shares to purchase\n",
    "\n",
    "Since we already built our formats in the last section of this course, I've included them below for you. Run this code cell before proceeding."
   ]
  },
  {
   "cell_type": "code",
   "execution_count": 21,
   "metadata": {},
   "outputs": [
    {
     "output_type": "error",
     "ename": "NameError",
     "evalue": "name 'writer' is not defined",
     "traceback": [
      "\u001b[0;31m---------------------------------------------------------------------------\u001b[0m",
      "\u001b[0;31mNameError\u001b[0m                                 Traceback (most recent call last)",
      "\u001b[0;32m<ipython-input-21-929b75216063>\u001b[0m in \u001b[0;36m<module>\u001b[0;34m()\u001b[0m\n\u001b[1;32m      2\u001b[0m \u001b[0mfont_color\u001b[0m \u001b[0;34m=\u001b[0m \u001b[0;34m'#ffffff'\u001b[0m\u001b[0;34m\u001b[0m\u001b[0;34m\u001b[0m\u001b[0m\n\u001b[1;32m      3\u001b[0m \u001b[0;34m\u001b[0m\u001b[0m\n\u001b[0;32m----> 4\u001b[0;31m string_template = writer.book.add_format(\n\u001b[0m\u001b[1;32m      5\u001b[0m         {\n\u001b[1;32m      6\u001b[0m             \u001b[0;34m'font_color'\u001b[0m\u001b[0;34m:\u001b[0m \u001b[0mfont_color\u001b[0m\u001b[0;34m,\u001b[0m\u001b[0;34m\u001b[0m\u001b[0;34m\u001b[0m\u001b[0m\n",
      "\u001b[0;31mNameError\u001b[0m: name 'writer' is not defined"
     ]
    }
   ],
   "source": [
    "background_color = '#0a0a23'\n",
    "font_color = '#ffffff'\n",
    "\n",
    "string_template = writer.book.add_format(\n",
    "        {\n",
    "            'font_color': font_color,\n",
    "            'bg_color': background_color,\n",
    "            'border': 1\n",
    "        }\n",
    "    )\n",
    "\n",
    "dollar_template = writer.book.add_format(\n",
    "        {\n",
    "            'num_format':'$0.00',\n",
    "            'font_color': font_color,\n",
    "            'bg_color': background_color,\n",
    "            'border': 1\n",
    "        }\n",
    "    )\n",
    "\n",
    "integer_template = writer.book.add_format(\n",
    "        {\n",
    "            'num_format':'0',\n",
    "            'font_color': font_color,\n",
    "            'bg_color': background_color,\n",
    "            'border': 1\n",
    "        }\n",
    "    )\n",
    "\n",
    "percent_template = writer.book.add_format(\n",
    "        {\n",
    "            'num_format':'0.0%',\n",
    "            'font_color': font_color,\n",
    "            'bg_color': background_color,\n",
    "            'border': 1\n",
    "        }\n",
    "    )"
   ]
  },
  {
   "cell_type": "code",
   "execution_count": null,
   "metadata": {},
   "outputs": [],
   "source": []
  },
  {
   "cell_type": "markdown",
   "metadata": {},
   "source": [
    "## Saving Our Excel Output\n",
    "\n",
    "As before, saving our Excel output is very easy:"
   ]
  },
  {
   "cell_type": "code",
   "execution_count": null,
   "metadata": {},
   "outputs": [],
   "source": []
  }
 ],
 "metadata": {
  "kernelspec": {
   "display_name": "Python 3",
   "language": "python",
   "name": "python3"
  }
 },
 "nbformat": 4,
 "nbformat_minor": 4
}